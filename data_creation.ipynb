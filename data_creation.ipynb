{
  "cells": [
    {
      "cell_type": "code",
      "execution_count": 1,
      "metadata": {
        "colab": {
          "base_uri": "https://localhost:8080/"
        },
        "id": "IjUlVrnLoPVz",
        "outputId": "8ad85217-03a2-4271-b831-8d42f8f59e47"
      },
      "outputs": [
        {
          "output_type": "stream",
          "name": "stdout",
          "text": [
            "Mounted at /content/drive\n"
          ]
        }
      ],
      "source": [
        "# 1: 구글 드라이브 연동\n",
        "from google.colab import drive\n",
        "drive.mount('/content/drive')"
      ]
    },
    {
      "cell_type": "code",
      "source": [
        "# 2: 실습용 github 코드 클론\n",
        "import os\n",
        "if os.path.isdir('/content/drive/MyDrive/mygpt-lecture') is False: # 실습 코드가 없는 경우에만 클론\n",
        "    %cd /content/drive/MyDrive/\n",
        "    !git clone https://github.com/oglee815/mygpt-lecture.git\n",
        "else:\n",
        "    print(\"Already exist\")"
      ],
      "metadata": {
        "colab": {
          "base_uri": "https://localhost:8080/"
        },
        "id": "4mooDPBxAdiB",
        "outputId": "b6fad4f4-c43d-4d27-bf87-09c0b4a82dc3"
      },
      "execution_count": 2,
      "outputs": [
        {
          "output_type": "stream",
          "name": "stdout",
          "text": [
            "Already exist\n"
          ]
        }
      ]
    },
    {
      "cell_type": "markdown",
      "source": [
        "# Stage 1. 도메인 특화 사전학습 데이터를 만들어보자"
      ],
      "metadata": {
        "id": "FxIYRzzMgbpB"
      }
    },
    {
      "cell_type": "markdown",
      "source": [
        "### Domain Adaptive Pretraining 데이터 만들기 (100% 수작업)"
      ],
      "metadata": {
        "id": "1heE10hymQcQ"
      }
    },
    {
      "cell_type": "code",
      "source": [
        "# 2: CSV로 만든 Pre-training 데이터 읽기\n",
        "# 본인이 직접 만든 데이터를 읽어오세요!!\n",
        "import pandas as pd\n",
        "data = pd.read_csv(\"/content/drive/MyDrive/mygpt-lecture/data/stage1. domain_adaptive_pretraining/아이브.csv\")"
      ],
      "metadata": {
        "id": "EE1i6xhs5dXS"
      },
      "execution_count": 4,
      "outputs": []
    },
    {
      "cell_type": "code",
      "source": [
        "# 3: 데이터 살펴보기\n",
        "data.head()"
      ],
      "metadata": {
        "colab": {
          "base_uri": "https://localhost:8080/",
          "height": 206
        },
        "id": "6jpKIYotCn9w",
        "outputId": "358fa816-679a-4b25-bb45-2032b570366e"
      },
      "execution_count": 8,
      "outputs": [
        {
          "output_type": "execute_result",
          "data": {
            "text/plain": [
              "          주제                                                 내용   길이\n",
              "0    아이브의 개요  2021년 12월 1일에 데뷔한 스타쉽엔터테인먼트 소속의 대한민국 6인조 다국적 걸...  138\n",
              "1    아이브의 멤버                           안유진, 가을, 레이, 장원영, 리즈, 이서   24\n",
              "2  아이브의 콘셉트1  청순 콘셉트를 지나 다시금 걸 크러시 콘셉트가 트렌드로 돌아온 4세대 걸그룹답게 I...  405\n",
              "3  아이브의 콘셉트2  사실 이 차별화는 현재 걸크러시 콘셉트로 활동하는 걸그룹 대부분에게 해당되는 말이긴...  380\n",
              "4  아이브의 콘셉트3  연타석 홈런을 친 데뷔 싱글 1집 타이틀곡 <ELEVEN>과 싱글 2집 타이틀곡 <...  269"
            ],
            "text/html": [
              "\n",
              "  <div id=\"df-2975de17-26ac-48b1-b889-a29d3fcfc511\" class=\"colab-df-container\">\n",
              "    <div>\n",
              "<style scoped>\n",
              "    .dataframe tbody tr th:only-of-type {\n",
              "        vertical-align: middle;\n",
              "    }\n",
              "\n",
              "    .dataframe tbody tr th {\n",
              "        vertical-align: top;\n",
              "    }\n",
              "\n",
              "    .dataframe thead th {\n",
              "        text-align: right;\n",
              "    }\n",
              "</style>\n",
              "<table border=\"1\" class=\"dataframe\">\n",
              "  <thead>\n",
              "    <tr style=\"text-align: right;\">\n",
              "      <th></th>\n",
              "      <th>주제</th>\n",
              "      <th>내용</th>\n",
              "      <th>길이</th>\n",
              "    </tr>\n",
              "  </thead>\n",
              "  <tbody>\n",
              "    <tr>\n",
              "      <th>0</th>\n",
              "      <td>아이브의 개요</td>\n",
              "      <td>2021년 12월 1일에 데뷔한 스타쉽엔터테인먼트 소속의 대한민국 6인조 다국적 걸...</td>\n",
              "      <td>138</td>\n",
              "    </tr>\n",
              "    <tr>\n",
              "      <th>1</th>\n",
              "      <td>아이브의 멤버</td>\n",
              "      <td>안유진, 가을, 레이, 장원영, 리즈, 이서</td>\n",
              "      <td>24</td>\n",
              "    </tr>\n",
              "    <tr>\n",
              "      <th>2</th>\n",
              "      <td>아이브의 콘셉트1</td>\n",
              "      <td>청순 콘셉트를 지나 다시금 걸 크러시 콘셉트가 트렌드로 돌아온 4세대 걸그룹답게 I...</td>\n",
              "      <td>405</td>\n",
              "    </tr>\n",
              "    <tr>\n",
              "      <th>3</th>\n",
              "      <td>아이브의 콘셉트2</td>\n",
              "      <td>사실 이 차별화는 현재 걸크러시 콘셉트로 활동하는 걸그룹 대부분에게 해당되는 말이긴...</td>\n",
              "      <td>380</td>\n",
              "    </tr>\n",
              "    <tr>\n",
              "      <th>4</th>\n",
              "      <td>아이브의 콘셉트3</td>\n",
              "      <td>연타석 홈런을 친 데뷔 싱글 1집 타이틀곡 &lt;ELEVEN&gt;과 싱글 2집 타이틀곡 &lt;...</td>\n",
              "      <td>269</td>\n",
              "    </tr>\n",
              "  </tbody>\n",
              "</table>\n",
              "</div>\n",
              "    <div class=\"colab-df-buttons\">\n",
              "\n",
              "  <div class=\"colab-df-container\">\n",
              "    <button class=\"colab-df-convert\" onclick=\"convertToInteractive('df-2975de17-26ac-48b1-b889-a29d3fcfc511')\"\n",
              "            title=\"Convert this dataframe to an interactive table.\"\n",
              "            style=\"display:none;\">\n",
              "\n",
              "  <svg xmlns=\"http://www.w3.org/2000/svg\" height=\"24px\" viewBox=\"0 -960 960 960\">\n",
              "    <path d=\"M120-120v-720h720v720H120Zm60-500h600v-160H180v160Zm220 220h160v-160H400v160Zm0 220h160v-160H400v160ZM180-400h160v-160H180v160Zm440 0h160v-160H620v160ZM180-180h160v-160H180v160Zm440 0h160v-160H620v160Z\"/>\n",
              "  </svg>\n",
              "    </button>\n",
              "\n",
              "  <style>\n",
              "    .colab-df-container {\n",
              "      display:flex;\n",
              "      gap: 12px;\n",
              "    }\n",
              "\n",
              "    .colab-df-convert {\n",
              "      background-color: #E8F0FE;\n",
              "      border: none;\n",
              "      border-radius: 50%;\n",
              "      cursor: pointer;\n",
              "      display: none;\n",
              "      fill: #1967D2;\n",
              "      height: 32px;\n",
              "      padding: 0 0 0 0;\n",
              "      width: 32px;\n",
              "    }\n",
              "\n",
              "    .colab-df-convert:hover {\n",
              "      background-color: #E2EBFA;\n",
              "      box-shadow: 0px 1px 2px rgba(60, 64, 67, 0.3), 0px 1px 3px 1px rgba(60, 64, 67, 0.15);\n",
              "      fill: #174EA6;\n",
              "    }\n",
              "\n",
              "    .colab-df-buttons div {\n",
              "      margin-bottom: 4px;\n",
              "    }\n",
              "\n",
              "    [theme=dark] .colab-df-convert {\n",
              "      background-color: #3B4455;\n",
              "      fill: #D2E3FC;\n",
              "    }\n",
              "\n",
              "    [theme=dark] .colab-df-convert:hover {\n",
              "      background-color: #434B5C;\n",
              "      box-shadow: 0px 1px 3px 1px rgba(0, 0, 0, 0.15);\n",
              "      filter: drop-shadow(0px 1px 2px rgba(0, 0, 0, 0.3));\n",
              "      fill: #FFFFFF;\n",
              "    }\n",
              "  </style>\n",
              "\n",
              "    <script>\n",
              "      const buttonEl =\n",
              "        document.querySelector('#df-2975de17-26ac-48b1-b889-a29d3fcfc511 button.colab-df-convert');\n",
              "      buttonEl.style.display =\n",
              "        google.colab.kernel.accessAllowed ? 'block' : 'none';\n",
              "\n",
              "      async function convertToInteractive(key) {\n",
              "        const element = document.querySelector('#df-2975de17-26ac-48b1-b889-a29d3fcfc511');\n",
              "        const dataTable =\n",
              "          await google.colab.kernel.invokeFunction('convertToInteractive',\n",
              "                                                    [key], {});\n",
              "        if (!dataTable) return;\n",
              "\n",
              "        const docLinkHtml = 'Like what you see? Visit the ' +\n",
              "          '<a target=\"_blank\" href=https://colab.research.google.com/notebooks/data_table.ipynb>data table notebook</a>'\n",
              "          + ' to learn more about interactive tables.';\n",
              "        element.innerHTML = '';\n",
              "        dataTable['output_type'] = 'display_data';\n",
              "        await google.colab.output.renderOutput(dataTable, element);\n",
              "        const docLink = document.createElement('div');\n",
              "        docLink.innerHTML = docLinkHtml;\n",
              "        element.appendChild(docLink);\n",
              "      }\n",
              "    </script>\n",
              "  </div>\n",
              "\n",
              "\n",
              "<div id=\"df-3b8a0615-495a-44ea-ab7c-d4f56ac7238a\">\n",
              "  <button class=\"colab-df-quickchart\" onclick=\"quickchart('df-3b8a0615-495a-44ea-ab7c-d4f56ac7238a')\"\n",
              "            title=\"Suggest charts.\"\n",
              "            style=\"display:none;\">\n",
              "\n",
              "<svg xmlns=\"http://www.w3.org/2000/svg\" height=\"24px\"viewBox=\"0 0 24 24\"\n",
              "     width=\"24px\">\n",
              "    <g>\n",
              "        <path d=\"M19 3H5c-1.1 0-2 .9-2 2v14c0 1.1.9 2 2 2h14c1.1 0 2-.9 2-2V5c0-1.1-.9-2-2-2zM9 17H7v-7h2v7zm4 0h-2V7h2v10zm4 0h-2v-4h2v4z\"/>\n",
              "    </g>\n",
              "</svg>\n",
              "  </button>\n",
              "\n",
              "<style>\n",
              "  .colab-df-quickchart {\n",
              "      --bg-color: #E8F0FE;\n",
              "      --fill-color: #1967D2;\n",
              "      --hover-bg-color: #E2EBFA;\n",
              "      --hover-fill-color: #174EA6;\n",
              "      --disabled-fill-color: #AAA;\n",
              "      --disabled-bg-color: #DDD;\n",
              "  }\n",
              "\n",
              "  [theme=dark] .colab-df-quickchart {\n",
              "      --bg-color: #3B4455;\n",
              "      --fill-color: #D2E3FC;\n",
              "      --hover-bg-color: #434B5C;\n",
              "      --hover-fill-color: #FFFFFF;\n",
              "      --disabled-bg-color: #3B4455;\n",
              "      --disabled-fill-color: #666;\n",
              "  }\n",
              "\n",
              "  .colab-df-quickchart {\n",
              "    background-color: var(--bg-color);\n",
              "    border: none;\n",
              "    border-radius: 50%;\n",
              "    cursor: pointer;\n",
              "    display: none;\n",
              "    fill: var(--fill-color);\n",
              "    height: 32px;\n",
              "    padding: 0;\n",
              "    width: 32px;\n",
              "  }\n",
              "\n",
              "  .colab-df-quickchart:hover {\n",
              "    background-color: var(--hover-bg-color);\n",
              "    box-shadow: 0 1px 2px rgba(60, 64, 67, 0.3), 0 1px 3px 1px rgba(60, 64, 67, 0.15);\n",
              "    fill: var(--button-hover-fill-color);\n",
              "  }\n",
              "\n",
              "  .colab-df-quickchart-complete:disabled,\n",
              "  .colab-df-quickchart-complete:disabled:hover {\n",
              "    background-color: var(--disabled-bg-color);\n",
              "    fill: var(--disabled-fill-color);\n",
              "    box-shadow: none;\n",
              "  }\n",
              "\n",
              "  .colab-df-spinner {\n",
              "    border: 2px solid var(--fill-color);\n",
              "    border-color: transparent;\n",
              "    border-bottom-color: var(--fill-color);\n",
              "    animation:\n",
              "      spin 1s steps(1) infinite;\n",
              "  }\n",
              "\n",
              "  @keyframes spin {\n",
              "    0% {\n",
              "      border-color: transparent;\n",
              "      border-bottom-color: var(--fill-color);\n",
              "      border-left-color: var(--fill-color);\n",
              "    }\n",
              "    20% {\n",
              "      border-color: transparent;\n",
              "      border-left-color: var(--fill-color);\n",
              "      border-top-color: var(--fill-color);\n",
              "    }\n",
              "    30% {\n",
              "      border-color: transparent;\n",
              "      border-left-color: var(--fill-color);\n",
              "      border-top-color: var(--fill-color);\n",
              "      border-right-color: var(--fill-color);\n",
              "    }\n",
              "    40% {\n",
              "      border-color: transparent;\n",
              "      border-right-color: var(--fill-color);\n",
              "      border-top-color: var(--fill-color);\n",
              "    }\n",
              "    60% {\n",
              "      border-color: transparent;\n",
              "      border-right-color: var(--fill-color);\n",
              "    }\n",
              "    80% {\n",
              "      border-color: transparent;\n",
              "      border-right-color: var(--fill-color);\n",
              "      border-bottom-color: var(--fill-color);\n",
              "    }\n",
              "    90% {\n",
              "      border-color: transparent;\n",
              "      border-bottom-color: var(--fill-color);\n",
              "    }\n",
              "  }\n",
              "</style>\n",
              "\n",
              "  <script>\n",
              "    async function quickchart(key) {\n",
              "      const quickchartButtonEl =\n",
              "        document.querySelector('#' + key + ' button');\n",
              "      quickchartButtonEl.disabled = true;  // To prevent multiple clicks.\n",
              "      quickchartButtonEl.classList.add('colab-df-spinner');\n",
              "      try {\n",
              "        const charts = await google.colab.kernel.invokeFunction(\n",
              "            'suggestCharts', [key], {});\n",
              "      } catch (error) {\n",
              "        console.error('Error during call to suggestCharts:', error);\n",
              "      }\n",
              "      quickchartButtonEl.classList.remove('colab-df-spinner');\n",
              "      quickchartButtonEl.classList.add('colab-df-quickchart-complete');\n",
              "    }\n",
              "    (() => {\n",
              "      let quickchartButtonEl =\n",
              "        document.querySelector('#df-3b8a0615-495a-44ea-ab7c-d4f56ac7238a button');\n",
              "      quickchartButtonEl.style.display =\n",
              "        google.colab.kernel.accessAllowed ? 'block' : 'none';\n",
              "    })();\n",
              "  </script>\n",
              "</div>\n",
              "    </div>\n",
              "  </div>\n"
            ]
          },
          "metadata": {},
          "execution_count": 8
        }
      ]
    },
    {
      "cell_type": "code",
      "execution_count": 9,
      "metadata": {
        "colab": {
          "base_uri": "https://localhost:8080/"
        },
        "id": "jCHRsLneoENU",
        "outputId": "edb772a9-1dff-4482-c542-713f20f4d25a"
      },
      "outputs": [
        {
          "output_type": "stream",
          "name": "stdout",
          "text": [
            "25\n"
          ]
        }
      ],
      "source": [
        "# 3: 데이터 갯수 찍어보기\n",
        "print(len(data))"
      ]
    },
    {
      "cell_type": "code",
      "source": [
        "# 4: 데이터 전처리\n",
        "\n",
        "# 주제만 가지고 학습을 위한 Prompt 형식으로 변환합니다.\n",
        "def prompting(topic):\n",
        "    return f\"다음 주제에 대하여, 위키피디아에 있는 정보를 어떠한 수정 없이 사실대로 말해주세요.\\n주제:{topic}\\n\"\n",
        "\n",
        "# 학습에 사용되는 포맷인 jsonl 타입으로 변경합니다\n",
        "instruction = []\n",
        "for a in data.iterrows():\n",
        "    topic = a[1]['주제']\n",
        "    output = a[1]['내용']\n",
        "    instruction.append({'instruction': prompting(topic), 'output': output})"
      ],
      "metadata": {
        "id": "YTwazHc6AhHi"
      },
      "execution_count": 10,
      "outputs": []
    },
    {
      "cell_type": "code",
      "execution_count": null,
      "metadata": {
        "id": "7Nvh9chgoFSr"
      },
      "outputs": [],
      "source": [
        "# 5: 알맞은 경로에 알맞은 이름으로 데이터 저장\n",
        "with open(\"/content/drive/MyDrive/mygpt-lecture/data/stage1. domain_adaptive_pretraining/domain_adaptive_ive_pretrain.jsonl\" , encoding= \"utf-8\",mode=\"w\") as file:\n",
        "\tfor i in instruction: file.write(json.dumps(i, ensure_ascii=False) + \"\\n\")"
      ]
    },
    {
      "cell_type": "markdown",
      "source": [
        "# API test"
      ],
      "metadata": {
        "id": "XzcPqWtagKUw"
      }
    },
    {
      "cell_type": "code",
      "source": [
        "# 6: 라이브러리 설치\n",
        "!pip install openai"
      ],
      "metadata": {
        "id": "EdCZvfRAJvaX",
        "colab": {
          "base_uri": "https://localhost:8080/"
        },
        "outputId": "9d684f30-cead-4cd3-c05b-b1e4504ec6d9"
      },
      "execution_count": 16,
      "outputs": [
        {
          "output_type": "stream",
          "name": "stdout",
          "text": [
            "Collecting openai\n",
            "  Downloading openai-0.28.1-py3-none-any.whl (76 kB)\n",
            "\u001b[?25l     \u001b[90m━━━━━━━━━━━━━━━━━━━━━━━━━━━━━━━━━━━━━━━━\u001b[0m \u001b[32m0.0/77.0 kB\u001b[0m \u001b[31m?\u001b[0m eta \u001b[36m-:--:--\u001b[0m\r\u001b[2K     \u001b[90m━━━━━━━━━━━━━━━━━━━━━━━━━━━━━━━━━━━━━━━━\u001b[0m \u001b[32m77.0/77.0 kB\u001b[0m \u001b[31m2.5 MB/s\u001b[0m eta \u001b[36m0:00:00\u001b[0m\n",
            "\u001b[?25hRequirement already satisfied: requests>=2.20 in /usr/local/lib/python3.10/dist-packages (from openai) (2.31.0)\n",
            "Requirement already satisfied: tqdm in /usr/local/lib/python3.10/dist-packages (from openai) (4.66.1)\n",
            "Requirement already satisfied: aiohttp in /usr/local/lib/python3.10/dist-packages (from openai) (3.8.6)\n",
            "Requirement already satisfied: charset-normalizer<4,>=2 in /usr/local/lib/python3.10/dist-packages (from requests>=2.20->openai) (3.3.0)\n",
            "Requirement already satisfied: idna<4,>=2.5 in /usr/local/lib/python3.10/dist-packages (from requests>=2.20->openai) (3.4)\n",
            "Requirement already satisfied: urllib3<3,>=1.21.1 in /usr/local/lib/python3.10/dist-packages (from requests>=2.20->openai) (2.0.7)\n",
            "Requirement already satisfied: certifi>=2017.4.17 in /usr/local/lib/python3.10/dist-packages (from requests>=2.20->openai) (2023.7.22)\n",
            "Requirement already satisfied: attrs>=17.3.0 in /usr/local/lib/python3.10/dist-packages (from aiohttp->openai) (23.1.0)\n",
            "Requirement already satisfied: multidict<7.0,>=4.5 in /usr/local/lib/python3.10/dist-packages (from aiohttp->openai) (6.0.4)\n",
            "Requirement already satisfied: async-timeout<5.0,>=4.0.0a3 in /usr/local/lib/python3.10/dist-packages (from aiohttp->openai) (4.0.3)\n",
            "Requirement already satisfied: yarl<2.0,>=1.0 in /usr/local/lib/python3.10/dist-packages (from aiohttp->openai) (1.9.2)\n",
            "Requirement already satisfied: frozenlist>=1.1.1 in /usr/local/lib/python3.10/dist-packages (from aiohttp->openai) (1.4.0)\n",
            "Requirement already satisfied: aiosignal>=1.1.2 in /usr/local/lib/python3.10/dist-packages (from aiohttp->openai) (1.3.1)\n",
            "Installing collected packages: openai\n",
            "\u001b[31mERROR: pip's dependency resolver does not currently take into account all the packages that are installed. This behaviour is the source of the following dependency conflicts.\n",
            "llmx 0.0.15a0 requires cohere, which is not installed.\n",
            "llmx 0.0.15a0 requires tiktoken, which is not installed.\u001b[0m\u001b[31m\n",
            "\u001b[0mSuccessfully installed openai-0.28.1\n"
          ]
        }
      ]
    },
    {
      "cell_type": "code",
      "source": [
        "# 7: ChatGPT API 테스트\n",
        "import openai\n",
        "\n",
        "openai.api_version=\"\"\n",
        "openai.api_key=\"Your Key\"\n",
        "response = openai.ChatCompletion.create(\n",
        "    model='gpt-3.5-turbo',\n",
        "      messages=[\n",
        "        {\"role\": \"user\", \"content\": \"아이브는 어떤 소속사에 소속되어 있나요?\"}],\n",
        "    max_tokens=512,\n",
        "    temperature=0,\n",
        ")\n",
        "\n",
        "print(response['choices'][0]['message']['content'])"
      ],
      "metadata": {
        "colab": {
          "base_uri": "https://localhost:8080/"
        },
        "id": "QtJBFASdJvE1",
        "outputId": "c9301bab-694f-42c9-eec8-95b7740ee883"
      },
      "execution_count": 36,
      "outputs": [
        {
          "output_type": "stream",
          "name": "stdout",
          "text": [
            "아이브는 SM 엔터테인먼트 소속입니다.\n"
          ]
        }
      ]
    },
    {
      "cell_type": "markdown",
      "metadata": {
        "id": "y8n8Z00A3dtl"
      },
      "source": [
        "# Stage1 데이터 생성하기, ChatGPT를 활용하여 도메인 특화 질의 응답 생성\n",
        "\n"
      ]
    },
    {
      "cell_type": "code",
      "source": [
        "# 8: ChatGPT API 테스트\n",
        "\n",
        "# 자신이 만든 데이터 읽어오기!!\n",
        "import json\n",
        "\n",
        "data=[]\n",
        "for a in open(\"/content/drive/MyDrive/mygpt-lecture/data/stage1. domain_adaptive_pretraining/domain_adaptive_ive_pretrain.jsonl\", 'r'):\n",
        "    data.append(json.loads(a))\n",
        "\n",
        "print(data[0]['instruction'])\n",
        "print(data[0]['output'])"
      ],
      "metadata": {
        "id": "5klIFe5RThIB",
        "colab": {
          "base_uri": "https://localhost:8080/"
        },
        "outputId": "70f627e9-4e25-4b77-aa35-43ffb59b7de4"
      },
      "execution_count": 12,
      "outputs": [
        {
          "output_type": "stream",
          "name": "stdout",
          "text": [
            "다음 주제에 대하여, 위키피디아에 있는 정보를 어떠한 수정 없이 사실대로 말해주세요.\n",
            "주제:아이브의 개요\n",
            "\n",
            "2021년 12월 1일에 데뷔한 스타쉽엔터테인먼트 소속의 대한민국 6인조 다국적 걸그룹이다.[2]\n",
            "\n",
            "그룹명인 IVE는 'I HAVE'의 축약형인 'I'VE'에서 유래되었으며, \"우리가 가진 것들을 모두 당당히 보여 드리겠다.\"는 포부를 담고 있다.\n"
          ]
        }
      ]
    },
    {
      "cell_type": "code",
      "source": [
        "# 9: ChatGPT에게 보낼 Prompt 설정\n",
        "\n",
        "# ChatGPT에게 여러번 물어보면 그만큼 돈과 시간이 많이 들겠죠?\n",
        "# 따라서 10개의 질문/정답 쌍을 한번에 받습니다!\n",
        "\n",
        "PROMPT=\"다음 주제와 내용을 보고 답변 할 수 있는 질문과 정답 쌍을 10개 만들어줘.\\n주제:{title}\\n내용:{content}\\n\\\n",
        "답변은 반드시 아래 형태를 띄어야 해.\\n\\\n",
        "Q1:질문\\n\\\n",
        "A1:정답\\n\\\n",
        "\\n\\\n",
        "Q2:질문\\n\\\n",
        "A2:정답\\n\\\n",
        "\\n\\\n",
        "Q3:질문\\n\\\n",
        "A3:정답\\n\\\n",
        "\\n\\\n",
        "Q4:질문\\n\\\n",
        "A4:정답\\n\\\n",
        "\\n\\\n",
        "Q5:질문\\n\\\n",
        "A5:정답\\n\\\n",
        "...\\n\\\n",
        "Q10:질문\\n\\\n",
        "A10:정답\\n\\\n",
        "\""
      ],
      "metadata": {
        "id": "XLorxPxHZgj8"
      },
      "execution_count": 13,
      "outputs": []
    },
    {
      "cell_type": "code",
      "source": [
        "# 10: 데이터 담을 리스트 생성\n",
        "qa_data = []\n",
        "error_data = []"
      ],
      "metadata": {
        "id": "AbO_IkrvHmMY"
      },
      "execution_count": 14,
      "outputs": []
    },
    {
      "cell_type": "code",
      "execution_count": 21,
      "metadata": {
        "colab": {
          "base_uri": "https://localhost:8080/"
        },
        "id": "JfHGWOk14gGd",
        "outputId": "543a5118-6562-4bc7-f756-50415a471f96"
      },
      "outputs": [
        {
          "output_type": "stream",
          "name": "stderr",
          "text": [
            "100%|██████████| 10/10 [10:14<00:00, 61.45s/it]\n"
          ]
        }
      ],
      "source": [
        "# 11: API Call\n",
        "\n",
        "# ChatGPT API를 통해 데이터 얻어오기\n",
        "# 중간에 에러가 나면 error_data에 넣어두고, 아래 for_loop의 data -> error_data 로 고쳐서 다시 돌려도 됨!!\n",
        "# 데이터에 민감 정보가 있을 경우 에러가 날 수 있습니다!!\n",
        "\n",
        "from tqdm import tqdm\n",
        "\n",
        "for a in tqdm(data[:10]):\n",
        "    title = a['instruction'].split(\"주제:\")[-1]\n",
        "    content = a['output']\n",
        "    try:\n",
        "        response = openai.ChatCompletion.create(\n",
        "        model='gpt-3.5-turbo',\n",
        "        messages=[\n",
        "                {'role':\"system\",\"content\":\"You are a helpful assistant.\"},\n",
        "                {'role':\"user\",\"content\":PROMPT.format_map({'title':title, 'content':content})},\n",
        "            ]\n",
        "        )\n",
        "\n",
        "        qa_data.append(response['choices'][0]['message']['content'])\n",
        "\n",
        "    except Exception as e:\n",
        "        error_data.append(a)\n",
        "        print(title)\n",
        "        print(e)"
      ]
    },
    {
      "cell_type": "code",
      "source": [
        "# 12: 학습이 시작되는 동안 직접 데이터를 만들어 볼까요?\n",
        "hand_written_data = [\n",
        "    {'instruction': \"아이브의 멤버 중 반민초파는 누구이고, 반민초파라는 단어의 의미는 무엇입니까?\",\n",
        "    'output' : \"아이브의 멤버 중 반민초파는 가을, 리즈로 알려져 있습니다. 반민초파라는 단어의 의미는 민초가 들어간 음식을 좋아하지 않는다는 의미입니다.\"\n",
        "    },\n",
        "    {'instruction': \"\",\n",
        "    'output' : \"\"\n",
        "    },\n",
        "    {'instruction': \"\",\n",
        "    'output' : \"\"\n",
        "    }\n",
        "    ### 이어서 작성\n",
        "]"
      ],
      "metadata": {
        "id": "xB0pN0lOJE1N"
      },
      "execution_count": 24,
      "outputs": []
    },
    {
      "cell_type": "code",
      "execution_count": 25,
      "metadata": {
        "id": "XlpFG1jD48r6"
      },
      "outputs": [],
      "source": [
        "# 13: chatgpt의 응답에서 Q와 A를 발라냅니다.\n",
        "instruction_data=[]\n",
        "for a in qa_data:\n",
        "    try:\n",
        "        for i, b in enumerate(a.split(\"\\n\\n\")):\n",
        "            i +=1\n",
        "            q = b.split(\"Q\"+str(i)+\":\")[1].split(\"\\nA\"+str(i)+\":\")[0].lstrip()\n",
        "            ans = b.split(\"A\"+str(i)+\":\")[1].split(\"\\n\\nQ\"+str(i)+\":\")[0].lstrip()\n",
        "            instruction_data.append({'instruction':q,'output':ans})\n",
        "    except Exception as e:\n",
        "        print(e)\n",
        "        continue"
      ]
    },
    {
      "cell_type": "code",
      "execution_count": null,
      "metadata": {
        "colab": {
          "base_uri": "https://localhost:8080/"
        },
        "id": "7KPW26HyBXQF",
        "outputId": "18e064ca-282d-481e-e3eb-9fdc1084e1b9"
      },
      "outputs": [
        {
          "output_type": "execute_result",
          "data": {
            "text/plain": [
              "248"
            ]
          },
          "metadata": {},
          "execution_count": 134
        }
      ],
      "source": [
        "len(instruction_data)"
      ]
    },
    {
      "cell_type": "code",
      "source": [
        "# 14: 잘 만들어졌는지 볼까요?\n",
        "for a in instruction_data:\n",
        "    print(a)"
      ],
      "metadata": {
        "colab": {
          "base_uri": "https://localhost:8080/"
        },
        "id": "agvRjWzdY5Qs",
        "outputId": "787efc10-a0d3-4782-f3fb-37240f54626e"
      },
      "execution_count": null,
      "outputs": [
        {
          "output_type": "stream",
          "name": "stdout",
          "text": [
            "{'instruction': '아이브는 어떤 소속사에 소속되어 있나요?', 'output': '아이브는 스타쉽엔터테인먼트에 소속되어 있습니다.'}\n",
            "{'instruction': '아이브는 몇 명으로 이루어져 있나요?', 'output': '아이브는 6인조로 이루어져 있습니다.'}\n",
            "{'instruction': '아이브의 데뷔일은 언제인가요?', 'output': '아이브의 데뷔일은 2021년 12월 1일입니다.'}\n",
            "{'instruction': 'IVE의 그룹명은 어떤 의미를 가지고 있나요?', 'output': 'IVE는 \\'I HAVE\\'의 축약형인 \\'I\\'VE\\'에서 유래되었으며, \"우리가 가진 것들을 모두 당당히 보여 드리겠다.\"는 포부를 담고 있습니다.'}\n",
            "{'instruction': '아이브는 어떤 국적을 가진 걸그룹인가요?', 'output': '아이브는 다국적 걸그룹입니다.'}\n",
            "{'instruction': '아이브의 소속사는 어떤 엔터테인먼트 기업인가요?', 'output': '아이브의 소속사는 스타쉽엔터테인먼트입니다.'}\n",
            "{'instruction': '아이브의 데뷔 후 첫 음악 프로그램 1위는 언제였나요?', 'output': '아이브의 데뷔 후 첫 음악 프로그램 1위는 공개되지 않았습니다.'}\n",
            "{'instruction': '아이브의 멤버는 누구들인가요?', 'output': '아이브의 멤버는 공개되지 않았습니다.'}\n",
            "{'instruction': '아이브의 음악 스타일은 어떤 특징이 있나요?', 'output': '아이브의 음악 스타일은 아직 공개되지 않았습니다.'}\n",
            "{'instruction': '아이브는 데뷔 후 어떤 활동을 할 예정인가요?', 'output': '아이브의 데뷔 후 활동 계획은 아직 공개되지 않았습니다.'}\n",
            "{'instruction': '아이브의 멤버는 누구인가요?', 'output': '안유진, 가을, 레이, 장원영, 리즈, 이서'}\n",
            "{'instruction': '안유진은 어떤 역할을 맡고 있나요?', 'output': '안유진은 서브보컬 및 리드댄서입니다.'}\n",
            "{'instruction': '가을이의 본명은 무엇인가요?', 'output': '가을이의 본명은 김희경입니다.'}\n",
            "{'instruction': '레이는 어떤 기타를 주로 연주하나요?', 'output': '레이는 베이스 기타를 주로 연주합니다.'}\n",
            "{'instruction': '장원영의 생년월일은 언제인가요?', 'output': '장원영의 생년월일은 2004년 8월 31일입니다.'}\n",
            "{'instruction': '리즈는 몇 살인가요?', 'output': '현재 리즈의 나이는 공개되지 않았습니다.'}\n",
            "{'instruction': '이서는 어떤 닉네임을 가지고 있나요?', 'output': '이서의 닉네임은 \"예삐\"입니다.'}\n",
            "{'instruction': '안유진은 어떤 솔로곡을 발표했나요?', 'output': '안유진은 \"유진의 생활\"이라는 솔로곡을 발표했습니다.'}\n",
            "{'instruction': '가을이는 어떤 애완동물을 키우고 있나요?', 'output': '가을이는 토끼를 키우고 있습니다.'}\n",
            "{'instruction': '이서는 어떤 포지션을 맡고 있나요?', 'output': '이서는 리드보컬 및 리드댄서입니다.'}\n",
            "{'instruction': 'IVE가 걸그룹들과 어떻게 다른 콘셉트를 시도했나요?', 'output': 'IVE는 걸 크러시 콘셉트를 기반으로 소녀 이미지와 자기애를 결합한 차별화된 콘셉트를 시도했습니다.'}\n",
            "{'instruction': '걸 크러시로 대두되는 그룹들의 이미지와 콘셉트는 어떤 것들인가요?', 'output': '걸 크러시로 대두되는 그룹들은 파워풀하고 섹시한 이미지와 콘셉트를 지향합니다.'}\n",
            "{'instruction': 'IVE의 이미지 구축에 어떤 요소들이 포함되었나요?', 'output': 'IVE의 이미지 구축에는 자신감 넘치는 아름다운 소녀 이미지가 포함되었습니다.'}\n",
            "{'instruction': '왜 IVE는 걸 크러시보다 다양하고 색다른 모습을 시도했을까요?', 'output': '시대가 변하고 대중들이 다양하고 색다른 모습을 원하게 되면서 IVE는 걸 크러시와는 다른 이미지를 선택했습니다.'}\n",
            "{'instruction': 'IVE의 콘셉트와 이미지 변화는 어떤 요인들에 의해 영향을 받았나요?', 'output': 'IVE의 콘셉트와 이미지 변화는 시대의 변화와 대중들의 요구에 의해 영향을 받았습니다.'}\n",
            "{'instruction': 'IVE가 어떤 이미지를 유지하면서 색다른 콘셉트를 시도했나요?', 'output': \"IVE는 '소녀'라는 정체성을 유지하면서 걸크러시에 '자기애'라는 이미지를 추가한 색다른 콘셉트를 시도했습니다.\"}\n",
            "{'instruction': '어떤 이유로 IVE는 청순 콘셉트를 지나 걸 크러시 콘셉트로 돌아왔나요?', 'output': 'IVE는 대중들의 다양한 요구를 반영하고자 청순 콘셉트를 거치고 걸 크러시 콘셉트로 돌아왔습니다.'}\n",
            "{'instruction': 'IVE는 어떤 차별화를 시도했나요?', 'output': 'IVE는 다른 그룹들과 차별화하기 위해 걸 크러시 이미지에 소녀 이미지와 자기애를 결합한 콘셉트를 시도했습니다.'}\n",
            "{'instruction': '걸그룹들은 왜 센 언니 이미지와 파워풀한 콘셉트를 선택하는 경우가 많나요?', 'output': '다른 그룹들은 대중들을 사로잡기 위해 센 언니 이미지와 파워풀한 콘셉트를 선택하는 경우가 많습니다.'}\n",
            "{'instruction': 'IVE가 새로운 이미지를 시도한 이유는 무엇인가요?', 'output': 'IVE가 새로운 이미지를 시도한 이유는 대중들의 요구와 시대의 변화에 적응하기 위해서입니다.'}\n",
            "{'instruction': '아이브의 콘셉트는 어떤 콘셉트인가요?', 'output': '아이브의 콘셉트는 다른 걸 크러시 콘셉트 걸그룹들과는 달리 보컬의 비중이 높은 음악을 내세우며 대중성과 트렌디함을 강조합니다.'}\n",
            "{'instruction': '아이브와 다른 걸 크러시 콘셉트 걸그룹들의 주요 차이점은 무엇인가요?', 'output': '아이브는 보컬의 비중이 높은 음악을 내세우고 있지만, 다른 걸 크러시 콘셉트 걸그룹들은 주로 랩과 힙합에 가까운 음악을 내고 있습니다.'}\n",
            "{'instruction': '아이브의 음악은 어떤 느낌을 주나요?', 'output': '아이브의 음악은 2000년대 후반 ~ 2010년대 초중반에 전성기를 누렸던 2세대 걸그룹들의 노래와 비슷한 느낌을 주어 호감을 느끼는 팬들도 많습니다.'}\n",
            "{'instruction': '아이브가 주로 어떤 콘셉트와 음악 스타일로 어필하나요?', 'output': '아이브는 주로 당당하고 주체적인 소녀 콘셉트와 보컬을 중시한 음악 스타일로 어필합니다.'}\n",
            "{'instruction': '아이브와 다른 걸 크러시 콘셉트 걸그룹들 중 어떤 그룹들이 비슷한 콘셉트를 가지고 있나요?', 'output': 'ITZY, (여자)아이들, aespa 등이 아이브와 비슷한 콘셉트를 가진 걸 크러시 콘셉트 걸그룹들 중 몇 가지입니다.'}\n",
            "{'instruction': '아이브와 (여자)아이들은 어떤 차이점이 있나요?', 'output': '아이브는 보컬의 비중이 높은 음악을 내세우고 있지만, (여자)아이들은 콘셉트추얼함과 자체 제작으로 승부를 보며 음악에 어필합니다.'}\n",
            "{'instruction': '아이브의 음악은 어떤 시기의 걸그룹들의 노래와 비슷한 느낌을 주나요?', 'output': '아이브의 음악은 2000년대 후반 ~ 2010년대 초중반에 전성기를 누렸던 2세대 걸그룹들의 노래와 비슷한 느낌을 주기 때문에 호감을 느끼는 팬들도 많습니다.'}\n",
            "{'instruction': '아이브가 어떤 콘셉트를 주로 어필하나요?', 'output': '아이브가 주로 당당하고 주체적인 소녀 콘셉트를 어필합니다.'}\n",
            "{'instruction': '아이브와 다른 걸 크러시 콘셉트 걸그룹들과의 주된 차이점은 무엇인가요?', 'output': '아이브는 보컬의 비중이 높은 음악을 내세우고 있는 반면, 다른 걸 크러시 콘셉트 걸그룹들은 주로 랩과 힙합에 가까운 음악을 내고 있습니다.'}\n",
            "{'instruction': '아이브가 어떤 음악 스타일로 어필하나요?', 'output': '아이브는 보컬을 중시하며 현재 걸 크러시 콘셉트로 활동하는 걸그룹들과는 달리 좀 더 대중성 있고 트렌디한 음악을 어필합니다.'}\n",
            "{'instruction': '아이브의 콘셉트3의 타이틀곡은 무엇인가요?', 'output': '데뷔 싱글 1집 타이틀곡은 <ELEVEN>이고, 2집 타이틀곡은 <LOVE DIVE>입니다.'}\n",
            "{'instruction': '<ELEVEN>과 <LOVE DIVE>는 어떤 내용을 담고 있나요?', 'output': '두 곡 모두 사랑에 빠진 소녀의 심리를 노래하고 있습니다.'}\n",
            "{'instruction': '어떻게 보면 흔해 보이는 주제인데, 어떤 점에서 독특한 내용이라고 할 수 있나요?', 'output': '가사를 자세히 분석해보면 상대방이 아닌 자기 자신한테 사랑에 빠진 화자의 심리를 노래한다는 점이 독특합니다.'}\n",
            "{'instruction': '이러한 주제를 가지고 나온 걸그룹은 흔하지 않을 것 같은데, 어떻게 대중들에게 차별화된 것으로 인식되게 되었나요?', 'output': '걸 크러시를 표방한 걸그룹이 이러한 주제를 메인 콘셉트로 잡은 것은 꽤 차별화된 점으로 인식되어 대중들에게 눈도장을 찍을 수 있게 되었습니다.'}\n",
            "{'instruction': '아이브의 콘셉트3는 어떤 컨셉으로 나왔나요?', 'output': '아이브의 콘셉트3는 걸 크러시를 표방한 컨셉으로 나왔습니다.'}\n",
            "{'instruction': '어떤 식의 눈도장을 찍게 되나요?', 'output': '아이브의 콘셉트3가 이러한 독특한 주제와 콘셉트를 가지고 나왔기 때문에 대중들에게 눈도장을 찍을 수 있게 되었습니다.'}\n",
            "{'instruction': '아이브의 콘셉트3의 음악은 어떤 스타일인가요?', 'output': '아이브의 콘셉트3의 음악은 걸 크러시 스타일의 음악입니다.'}\n",
            "{'instruction': '<ELEVEN>과 <LOVE DIVE>는 아이브의 콘셉트3에서 어떤 위치에 있는 곡인가요?', 'output': '<ELEVEN>과 <LOVE DIVE>는 싱글 1집과 2집의 타이틀곡으로, 중요한 위치에 있는 곡입니다.'}\n",
            "{'instruction': '아이브의 콘셉트3는 어떤 이미지를 전달하려 했나요?', 'output': '아이브의 콘셉트3는 걸 크러시 이미지를 전달하려 했습니다.'}\n",
            "{'instruction': '아이브의 콘셉트3의 노래에는 어떤 감정이 담겨 있나요?', 'output': '아이브의 콘셉트3의 노래에는 사랑에 빠진 소녀의 심리와 감정이 담겨 있습니다.'}\n",
            "{'instruction': '결과적으로 어떤 성과를 냈나요?', 'output': '매우 성공적인 성과를 냈습니다.'}\n",
            "{'instruction': '어떤 세대의 가장 큰 관심사였나요?', 'output': 'M세대 후반과 Z세대의 가장 큰 관심사였습니다.'}\n",
            "{'instruction': '어떤 자아상이 주요한 콘셉트로 사용되었나요?', 'output': '자신을 사랑하고 스스로에게 당당한 이미지가 주요한 콘셉트로 사용되었습니다.'}\n",
            "{'instruction': '누구의 팬덤 화력이 더해져 성공적이었나요?', 'output': '안유진과 장원영의 팬덤 화력이 더해져 성공적이었습니다.'}\n",
            "{'instruction': '어떤 멤버를 통해 신규팬덤이 유입되었나요?', 'output': '아이즈원 출신이 아닌 새로운 멤버를 통해 신규팬덤이 유입되었습니다.'}\n",
            "{'instruction': 'IVE가 어떻게 자리를 잡게 되었나요?', 'output': 'IVE가 빠르게 그리고 안정적으로 자리를 잡게 되었습니다.'}\n",
            "{'instruction': '어떤 세대의 주요 관심사였나요?', 'output': '1990년대 중반~2010년대 초반생인 1020세대의 주요 관심사였습니다.'}\n",
            "{'instruction': '어떤 세대의 워너비 소재인 콘셉트인가요?', 'output': '1990년대 중반~2010년대 초반생인 1020세대의 워너비 소재인 콘셉트입니다.'}\n",
            "{'instruction': 'IZ*ONE 활동을 거쳐 어떤 결과를 얻었나요?', 'output': 'IZ*ONE 활동을 거쳐 안유진과 장원영의 팬덤 화력을 얻었습니다.'}\n",
            "{'instruction': '어떤 멤버들이 IVE의 성장을 도왔나요?', 'output': '안유진과 장원영 외에도 아이즈원 출신이 아닌 새로운 멤버들이 IVE의 성장을 도왔습니다.'}\n",
            "{'instruction': '아이브의 실력 중에서 가장 특출난 점은 무엇인가요?', 'output': '아이브의 표정 연기입니다.'}\n",
            "{'instruction': '어떻게 아이브의 표정 연기가 무대 완성도를 높이나요?', 'output': '아이브의 표정 연기는 멤버 개개인을 더욱 돋보이게 만들어서 무대의 완성도를 높입니다.'}\n",
            "{'instruction': '어떤 멤버들이 표정 연기로 주목을 받아왔나요?', 'output': '장원영과 안유진이 표정 연기로 주목을 받아왔습니다.'}\n",
            "{'instruction': '아이브 멤버 중에서도 표정 연기가 뛰어난 멤버들이 있나요?', 'output': '예, 아이브 멤버들은 다 신인이라고 믿어지지 않는 완벽한 표정 연기를 해내고 있습니다.'}\n",
            "{'instruction': 'LOVE DIVE 활동에서 큰 화제가 된 표정 연기는 어떤 것이었나요?', 'output': \"LOVE DIVE 활동에서는 '나르시시틱 파트'에서 완전히 나르시시즘에 빠진 듯한 표정 연기가 큰 화제가 되었습니다.\"}\n",
            "{'instruction': '아이브의 모든 멤버들이 곡의 스토리와 가사에 맞는 표정 연기를 잘 하나요?', 'output': '네, 아이브의 모든 멤버들이 곡의 스토리와 가사에 맞는 표정 연기를 능숙하게 사용합니다.'}\n",
            "{'instruction': '아이브의 표정 연기를 보는 사람들이 무대에 잘 몰입할 수 있는 이유는 무엇인가요?', 'output': '아이브의 표정 연기는 무대에 잘 몰입할 수 있도록 만들어져 있기 때문입니다.'}\n",
            "{'instruction': '어떻게 아이브의 표정 연기로 개개인이 더욱 돋보이게 되나요?', 'output': '아이브의 표정 연기는 개개인을 더욱 돋보이게 만들어줍니다.'}\n",
            "{'instruction': '아이브의 표정 연기가 신인이라고 믿기지 않는 완벽함을 보여주는 경우는 어떤 것이 있나요?', 'output': \"예를 들어, LOVE DIVE 활동 당시 '나르시시틱 파트'에서 완전히 나르시시즘에 빠진 듯한 표정 연기를 선보여 큰 화제가 되었습니다.\"}\n",
            "{'instruction': '아이브 멤버 중에서 표정 연기로 주목을 받은 멤버가 누구인가요?', 'output': '장원영과 안유진이 표정 연기로 주목을 받았습니다.'}\n",
            "{'instruction': '아이브의 실력 - 보컬에 어떤 요소가 가장 큰 영향을 미치나요?', 'output': '각 멤버의 유니크하고 매력적인 음색이 곡의 분위기를 잘 살려 줍니다.'}\n",
            "{'instruction': '아이브의 메인보컬과 서브보컬은 누구들인가요?', 'output': '메인보컬은 안유진과 리즈이고, 서브보컬은 가을, 레이, 장원영, 이서입니다.'}\n",
            "{'instruction': '아이브의 랩 파트와 고음역대 파트는 누가 맡고 있나요?', 'output': '랩 파트는 가을, 레이가 맡고, 고음역대 파트는 리즈와 안유진이 맡고 있습니다.'}\n",
            "{'instruction': '아이브의 저음역대 파트는 누가 맡고 있나요?', 'output': '저음역대 파트는 장원영과 이서가 맡고 있습니다.'}\n",
            "{'instruction': \"아이브의 정규 1집 I've IVE로 컴백하면서 어떤 성장을 보였나요?\", 'output': '신속한 피드백 수용과 노력하는 모습으로 한 단계 성장한 라이브 실력을 보였습니다.'}\n",
            "{'instruction': '아이브의 라이브 실력은 어떻게 호평받고 있나요?', 'output': '앵 콜 무대와 기타 축제에서의 라이브 무대를 통해 발전하는 라이브 실력을 증명하며 많은 호평을 받고 있습니다.'}\n",
            "{'instruction': '아이브의 실력 향상을 위해 어떤 노력을 하고 있나요?', 'output': '신속한 피드백 수용과 노력하는 모습으로 발전하는 라이브 실력을 보여주고 있습니다.'}\n",
            "{'instruction': '아이브의 실력을 알 수 있는 무대는 어떤 것들이 있나요?', 'output': '앵 콜 무대와 기타 축제에서의 라이브 무대를 통해 아이브의 실력을 알 수 있습니다.'}\n",
            "{'instruction': '아이브의 실력에 대해 어떤 말들이 있나요?', 'output': '많은 호평을 받고 있다고 합니다. 신속한 피드백 수용과 노력하는 모습이 보기 좋다는 평가를 받았습니다.'}\n",
            "{'instruction': '아이브의 라이브 실력이 어떻게 발전했는지 어떤 사례로 알 수 있나요?', 'output': '앵 콜 무대와 기타 축제에서의 라이브 무대를 통해 아이브의 발전하는 라이브 실력을 확인할 수 있습니다.'}\n",
            "{'instruction': '아이브의 댄스 실력은 어떻게 평가되나요?', 'output': '전체적으로 준수한 실력을 갖추고 있습니다.'}\n",
            "{'instruction': '어떤 멤버들이 아이브의 댄서 라인으로 언급되나요?', 'output': '주로 안유진과 가을이 댄서 라인으로 언급됩니다.'}\n",
            "{'instruction': '아이브의 댄스 실력은 어떤 요소들을 가지고 있나요?', 'output': '아이브는 유연한 움직임과 정확한 리듬감 등을 가지고 있습니다.'}\n",
            "{'instruction': '아이브의 댄스는 무엇을 강점으로 하는 것 같아요?', 'output': '아이브의 댄스는 찰진 움직임과 균형감을 강점으로 합니다.'}\n",
            "{'instruction': '아이브의 댄서 멤버들은 누구인가요?', 'output': '아이브의 댄서 멤버들은 안유진과 가을입니다.'}\n",
            "{'instruction': '아이브의 댄스는 양념을 가미한 스타일인가요?', 'output': '아이브의 댄스는 양념을 가미한 스타일로 알려져 있습니다.'}\n",
            "{'instruction': '아이브의 댄스는 타 그룹과 비교할 때 어떤 점이 눈에 띄나요?', 'output': '아이브의 댄스는 타 그룹과 비교해서도 뛰어난 리듬감을 가지고 있습니다.'}\n",
            "{'instruction': '아이브의 댄스 실력에 대해서 어떤 평가가 주로 이루어지고 있나요?', 'output': '아이브의 댄스 실력에 대해서는 주로 긍정적인 평가가 이루어지고 있습니다.'}\n",
            "{'instruction': '아이브의 댄스 실력은 전문가들에게도 인정 받나요?', 'output': '예, 아이브의 댄스 실력은 전문가들에게도 인정받고 있습니다.'}\n",
            "{'instruction': '아이브의 댄서 멤버들은 무슨 스타일의 댄스를 주로 하나요?', 'output': '아이브의 댄서 멤버들은 주로 현대댄스와 컨템퍼러리 댄스를 주로 합니다.'}\n",
            "{'instruction': '아이브는 어떤 포지션을 담당하고 있나요?', 'output': '가을과 레이퍼 포지션을 담당하고 있습니다.'}\n",
            "{'instruction': '아이브는 어떠한 곡을 주로 부르나요?', 'output': '주로 보컬 위주의 곡을 부르고 있습니다.'}\n",
            "{'instruction': '어떤 곡에서 아이브는 빠른 랩으로 호평을 받았나요?', 'output': '<After LIKE>에서 빠른 랩으로 호평을 받았습니다.'}\n",
            "{'instruction': '<After LIKE> 이전에는 어떤 랩을 보여주었나요?', 'output': '<LOVE DIVE> 활동까지는 짧은 킬링파트 혹은 싱잉 랩밖에 보여 주지 못했습니다.'}\n",
            "{'instruction': '아이브의 랩 실력은 어떻게 평가되나요?', 'output': '빠른 랩으로 많은 호평을 받았으며, 2세대 걸그룹들을 연상시키기도 합니다.'}\n",
            "{'instruction': '아이브의 랩 실력이 어느곳에서 인정받았나요?', 'output': '<After LIKE>에서 랩 실력으로 많은 인정을 받았습니다.'}\n",
            "{'instruction': '아이브의 양손 랩도 잘 할 수 있나요?', 'output': '예, 아이브는 양손 랩도 잘 할 수 있습니다.'}\n",
            "{'instruction': '아이브의 랩은 어떤 스타일인가요?', 'output': '아이브의 랩은 빠르고 힙합적인 스타일로 알려져 있습니다.'}\n",
            "{'instruction': '아이브의 랩 실력은 그룹 내에서 어떻게 평가되나요?', 'output': '그룹 내에서 아이브의 랩 실력은 뛰어나다고 평가되고 있습니다.'}\n",
            "{'instruction': '아이브는 앞으로 어떤 랩 활동을 할 예정인가요?', 'output': '앞으로도 아이브는 랩 활동을 지속할 예정입니다.'}\n",
            "{'instruction': '아이브의 비주얼이 왜 유명한가요?', 'output': '아이브는 자타공인 전원 센터급 비주얼로 유명합니다.'}\n",
            "{'instruction': '어떤 그룹이 처음부터 비주얼을 내세웠나요?', 'output': '스타쉽엔터테인먼트 그룹인 아이브가 처음부터 비주얼을 내세웠습니다.'}\n",
            "{'instruction': '아이브의 평균 비주얼은 어떤가요?', 'output': '아이브의 평균 비주얼은 상당히 뛰어나다고 평가받고 있습니다.'}\n",
            "{'instruction': '아이브 멤버 중 대표적인 메인 비주얼은 누구인가요?', 'output': '장원영과 안유진은 아이브의 메인 비주얼로 꼽히고 있습니다.'}\n",
            "{'instruction': '이서 멤버는 어떤 비주얼 포텐을 가지고 있나요?', 'output': '이서는 어렸음에도 무시무시한 비주얼 포텐을 가지고 있습니다.'}\n",
            "{'instruction': '레이 멤버는 어떤 비주얼을 가지고 있나요?', 'output': '레이는 귀여우면서도 세련된 외모로 덕후몰이를 하고 있습니다.'}\n",
            "{'instruction': '가을과 리즈를 최고의 비주얼로 생각하는 사람도 많나요?', 'output': '가을과 리즈를 최고의 비주얼로 생각하는 사람도 적지 않습니다.'}\n",
            "{'instruction': '아이브 멤버 중 어떤 멤버가 아이돌상을 수상했나요?', 'output': '장원영은 아이돌상을 수상한 대표적인 멤버입니다.'}\n",
            "{'instruction': '아이브 멤버 중 어떤 멤버가 배우상을 수상했나요?', 'output': '안유진은 배우상을 수상한 대표적인 멤버입니다.'}\n",
            "{'instruction': '아이브 멤버들 중 비주얼 3대장으로 평가받은 멤버는 누구인가요?', 'output': '이서는 비주얼 3대장으로 평가받은 멤버입니다.'}\n",
            "{'instruction': '아이브의 비주얼2 멤버들은 키와 비율이 어떻게 되나요?', 'output': '멤버들의 평균 신장은 169.2cm로, 모두 키가 크고 비율이 훌륭합니다.'}\n",
            "{'instruction': '안유진과 장원영의 키는 얼마나 되나요?', 'output': '안유진과 장원영의 키는 모두 173cm입니다.'}\n",
            "{'instruction': '아이브의 비주얼2 멤버들은 목을 포함한 얼굴에 점이 있는 건가요?', 'output': '네, 멤버 전원이 얼굴에 점이 있는데 이것이 매력 포인트로 알려져 있습니다.'}\n",
            "{'instruction': '아이브의 비주얼2 멤버 중 신장이 가장 작은 멤버는 누구인가요?', 'output': '이서는 166cm로 아이브의 비주얼2 멤버 중 신장이 가장 작습니다.'}\n",
            "{'instruction': '아이브의 비주얼2 멤버들의 키다리돌 별명은 무엇인가요?', 'output': '아이브의 비주얼2 멤버들은 키가 크고 비율이 훌륭해서 \"키다리돌\"이라는 별명을 가지고 있습니다.'}\n",
            "{'instruction': '아이브의 비주얼2 멤버들의 존재감은 어떤가요?', 'output': '아이브의 비주얼2 멤버들은 키가 크고 비율이 좋아서 존재감이 크다고 할 수 있습니다.'}\n",
            "{'instruction': '아이브의 비주얼2 멤버들의 신장 순서는 어떻게 되나요?', 'output': '신장 순서는 안유진과 장원영이 가장 키가 크고, 다음으로 리즈, 레이, 이서, 가을 순입니다.'}\n",
            "{'instruction': '아이브의 비주얼2 그룹은 어떤 장르의 음악을 하는 건가요?', 'output': '아이브의 비주얼2 그룹은 아이돌 걸그룹이며, 다양한 장르의 음악을 선보입니다.'}\n",
            "{'instruction': '아이브의 비주얼2 멤버들이 얼마나 소속된 그룹이에요?', 'output': '아이브의 비주얼2 멤버들은 한 그룹에 소속되어 있습니다.'}\n",
            "{'instruction': '아이브의 비주얼2 멤버들의 점이 매력포인트인 이유가 무엇인가요?', 'output': '멤버 전원이 얼굴에 점이 있는 것은 독특하고 매력적으로 여겨지기 때문입니다.'}\n",
            "{'instruction': '이 아티스트는 어떤 기준으로 가장 앞서나가는 선두 주자 중 하나로 꼽히는 걸그룹이 되었나요?', 'output': '그룹이 약간의 침체기가 있었던 여자 아이돌 시장의 부흥을 가져온 걸그룹으로 꼽히기 때문입니다.'}\n",
            "{'instruction': '이 아티스트는 언제 어떤 대상을 수상하며 2NE1, 미쓰에이, aespa에 이어 대상과 신인상을 동시에 수상한 최초의 아티스트가 되었나요?', 'output': '2022년 11월 26일 멜론 뮤직 어워드, 11월 30일 마마 어워즈, 12월 13일 아시아 아티스트 어워즈에서 대상과 신인상을 동시에 수상하였습니다.'}\n",
            "{'instruction': '이 아티스트는 어떤 상을 수상하여 골든디스크어워즈 역사상 최초이자 유일하게 신인상과 대상을 동시에 수상한 아티스트가 되었나요?', 'output': '2023년 1월 7일에 열린 제37회 골든디스크어워즈에서 신인상과 디지털 음원 부문 대상을 수상하며 최초로 신인상과 대상을 동시에 수상하였습니다.'}\n",
            "{'instruction': '이 아티스트는 어떤 엔터테인먼트사에 소속되어 있나요?', 'output': '이 아티스트는 스타쉽엔터테인먼트에 소속되어 있습니다.'}\n",
            "{'instruction': '이 아티스트의 데뷔 후 발표한 싱글들은 어떤 성공을 거두었나요?', 'output': '이 아티스트는 데뷔 후 발표한 3개의 싱글 모두 크게 성공을 거두었습니다.'}\n",
            "{'instruction': '이 아티스트는 어떤 시상식에서 3개의 시상식에서 신인상과 대상을 동시 수상한 최초의 아티스트가 되었다고 언급되었나요?', 'output': '이 아티스트는 2022년 11월 26일 멜론 뮤직 어워드, 11월 30일 마마 어워즈, 12월 13일 아시아 아티스트 어워즈에서 신인상과 대상을 동시에 수상하였습니다.'}\n",
            "{'instruction': '이 아티스트는 어떤 시상식에서 신인상과 디지털 음원 부문 대상을 동시에 수상하며 최초이자 유일하게 신인상과 대상을 동시에 수상한 아티스트가 되었다고 언급되었나요?', 'output': '이 아티스트는 2023년 1월 7일에 열린 제37회 골든디스크어워즈에서 신인상과 디지털 음원 부문 대상을 동시에 수상하였습니다.'}\n",
            "{'instruction': '이 아티스트가 속한 그룹은 어떤 시기에 여자 아이돌 시장의 침체기를 가져온 걸그룹으로 꼽혔나요?', 'output': '이 아티스트가 속한 그룹은 약간의 침체기가 있었던 여자 아이돌 시장의 부흥을 가져온 걸그룹으로 꼽혔습니다.'}\n",
            "{'instruction': '이 아티스트는 어떤 시상식에서 최초로 신인상과 대상을 동시에 수상한 아티스트가 되었다고 언급되었나요?', 'output': '이 아티스트는 2022년 11월 26일 멜론 뮤직 어워드, 11월 30일 마마 어워즈, 12월 13일 아시아 아티스트 어워즈에서 최초로 신인상과 대상을 동시에 수상하였습니다.'}\n",
            "{'instruction': '이 아티스트가 속한 그룹은 어떤 성적을 기록하고 있는 걸그룹이 되었나요?', 'output': '이 아티스트가 속한 그룹은 스타쉽뿐만 아니라 K-POP 걸그룹 역사에서 강력한 임팩트를 보여 준 걸그룹이 되었습니다.'}\n",
            "{'instruction': '아이브의 데뷔 싱글 《ELEVEN》의 초동 매출은 얼마인가요?', 'output': '15만 장'}\n",
            "{'instruction': '아이브의 데뷔곡 《ELEVEN》은 몇 개의 음악 방송에서 1위를 차지했나요?', 'output': '13관왕'}\n",
            "{'instruction': '아이브는 데뷔 후 얼마나 빠르게 쇼챔피언에서 1위를 했나요?', 'output': '7일 만에'}\n",
            "{'instruction': '아이브는 역대 걸그룹에서 어떤 기록을 가지고 있나요?', 'output': '역대 걸그룹 최단 기간 1위, 13관왕 이상의 기록'}\n",
            "{'instruction': '아이브의 두 번째 싱글 《LOVE DIVE》의 초동 매출은 얼마인가요?', 'output': '30만 장'}\n",
            "{'instruction': '아이브의 두 번째 싱글 《LOVE DIVE》은 몇 개의 음악 방송에서 1위를 차지했나요?', 'output': '10관왕'}\n",
            "{'instruction': '아이브의 두 번째 싱글 《LOVE DIVE》는 어떤 음악 차트에서 1위를 했나요?', 'output': '2022년 멜론 연간차트, 6월 멜론 월간차트'}\n",
            "{'instruction': '아이브는 어떤 기록을 가지고 있어서 최고의 성적을 달성한 멤버들인가요?', 'output': '4세대 아이돌 최초 멜론 월간 1위 달성, 스포티파이 글로벌차트 TOP 50 안에 듬'}\n",
            "{'instruction': '아이브는 현재 어떤 차트에서 높은 순위를 유지하고 있나요?', 'output': '음원, 음반, 유튜브 모든 면에서 높은 순위를 유지하고 있음'}\n",
            "{'instruction': '아이브는 어떤 성적을 달성해서 미국 빌보드 글로벌 차트에서 어떤 순위를 달성했나요?', 'output': '15위까지 달성'}\n",
            "{'instruction': '아이브의 두 번째 싱글은 무슨 곡이었나요?', 'output': '<LOVE DIVE> (동명의 타이틀곡)'}\n",
            "{'instruction': '어떤 음악 프로그램에서 뮤직뱅크 트리플 크라운을 수상했나요?', 'output': '4월 29일 기준 뮤직뱅크'}\n",
            "{'instruction': '아이브는 몇 주 연속 1위를 차지했나요?', 'output': '3주 연속 1위'}\n",
            "{'instruction': '어떤 음악 프로그램에서도 트리플 크라운을 수상했던 가요는 어느 곡인가요?', 'output': '<LOVE DIVE>'}\n",
            "{'instruction': '아이브는 어느 주에 박빙의 승부 끝에 1위를 수상했나요?', 'output': '마지막 주인 15주차'}\n",
            "{'instruction': '아이브의 세 번째 싱글인 《After LIKE》는 어떤 차트에서 순위를 올렸나요?', 'output': 'Spotify 글로벌 차트 23위, 미국 차트 82위'}\n",
            "{'instruction': '《After LIKE》의 성과로 아이브는 어떤 기록을 달성했나요?', 'output': '9월 12일에 전 음원 사이트 실시간 및 일간 1위 달성, PAK(Perfect All-Kill)를 달성'}\n",
            "{'instruction': 'PAK(Perfect All-Kill)는 무엇을 의미하나요?', 'output': '모든 음원 사이트의 실시간, 일간, 주간 차트 1위를 모두 차지하는 것'}\n",
            "{'instruction': '《After LIKE》는 어떤 수치상 한국 걸그룹 중에서 어떤 위치에 올랐나요?', 'output': '두 번째로 높은 위치, Spotify 글로벌 차트 23위'}\n",
            "{'instruction': 'SBS 인기가요에서 아이브는 몇 번 트리플 크라운을 수상했나요?', 'output': '7월 3일 기준 SBS 인기가요에서도 한 번 트리플 크라운을 수상'}\n",
            "{'instruction': '아이브의 세 번째 싱글인 \"After LIKE\"의 초동 판매량은 얼마인가요?', 'output': '초동 92만장을 기록했습니다.'}\n",
            "{'instruction': '\"After LIKE\"의 초동 판매량은 전작인 \"LOVE DIVE\"의 몇 배에 해당하나요?', 'output': '\"After LIKE\"의 초동 판매량은 \"LOVE DIVE\"의 3배에 근접합니다.'}\n",
            "{'instruction': '\"After LIKE\"는 한국 걸그룹 중 초동 판매량 2위를 달성했나요?', 'output': '네, \"After LIKE\"는 한국 걸그룹 초동 판매량 2위에 등극했습니다.'}\n",
            "{'instruction': '아이브는 앨범 판매 11일차인 언제에 100만장 판매를 돌파했나요?', 'output': '아이브는 앨범 판매 11일차인 9월 1일에 100만장 판매를 돌파했습니다.'}\n",
            "{'instruction': '아이브는 한국 걸그룹 중 밀리언셀러를 기록한 몇 번째 그룹인가요?', 'output': '아이브는 한국 걸그룹 역사상 세번째로 밀리언셀러를 기록한 그룹이 됩니다.'}\n",
            "{'instruction': '멜론 20만 이상 하트를 보유한 아이브의 곡은 몇 개인가요?', 'output': '멜론 20만 이상 하트를 보유한 아이브의 곡은 2곡입니다.'}\n",
            "{'instruction': '어떤 두 곡이 2022년 멜론 연간차트에서 1위와 6위에 랭크되었나요?', 'output': '<LOVE DIVE>와 <ELEVEN>이 2022년 멜론 연간차트에서 각각 1위와 6위에 랭크되었습니다.'}\n",
            "{'instruction': '아이브의 정규 1집 \"I\\'ve IVE\"의 초동 판매량은 얼마인가요?', 'output': '정규 1집 \"I\\'ve IVE\"는 초동 110만장을 기록했습니다.'}\n",
            "{'instruction': '\"I AM\"이라는 곡은 어떤 성과를 달성했나요?', 'output': '\"I AM\"은 활동 첫 주에 순위제를 실시하는 모든 음악 방송에서 1위를 수상하며 그랜드 슬램을 달성했습니다.'}\n",
            "{'instruction': '현재까지 역대 써클차트에서 아이브는 몇 주간 1위를 차지하고 있나요?', 'output': '2023년 6월 1일 기준, 아이브는 통산 16주 1위로 역대 써클차트 누적 1위 주간 4위에 랭크되어 있습니다.'}\n",
            "{'instruction': 'IVE는 어떤 기간에 출범한 아이돌 그룹인가요?', 'output': 'IVE는 약 5년 9개월 만에 출범한 걸그룹이다.'}\n",
            "{'instruction': 'CRAVITY 이후 얼마나 지난 후에 IVE가 선보이게 되었나요?', 'output': 'CRAVITY 이후 1년 7개월 만에 IVE가 선보이게 되었다.'}\n",
            "{'instruction': 'IVE는 어떤 음악 방송에서 1위를 기록했나요?', 'output': 'IVE는 지상파 음악 방송에서 1위를 기록했다.'}\n",
            "{'instruction': 'IVE는 대한민국 걸그룹 중에서 어떤 기록을 가지고 있나요?', 'output': 'IVE는 대한민국 걸그룹 지상파 음악 방송 1위 최연소, 차연소 기록을 갖고 있다.'}\n",
            "{'instruction': 'IVE의 그룹명은 어떻게 결정되었나요?', 'output': 'IVE의 그룹명은 회사 공모를 통해 결정되었다.'}\n",
            "{'instruction': '다른 그룹명도 고려됐던 건가요?', 'output': '네, 멤버들은 어떤 이름이 될지 기대하며 기다리고 있었다.'}\n",
            "{'instruction': '그렇다면 팀장님은 어떻게 그룹명을 발표했나요?', 'output': '팀장님이 너무나 덤덤하게 “너희 팀 이름은 IVE야.”라고 말한 것 같다.'}\n",
            "{'instruction': 'IVE의 멤버 중에 장원영이 1위를 기록한 날짜는 언제인가요?', 'output': '장원영은 2019년 4월 12일에 1위를 기록했다.'}\n",
            "{'instruction': '이서는 언제 1위를 기록했나요?', 'output': '이서는 2021년 12월 17일에 1위를 기록했다.'}\n",
            "{'instruction': 'IVE는 어떤 기록을 가지고 있는 걸그룹인가요?', 'output': 'IVE는 대한민국 걸그룹 중에서 지상파 음악 방송 1위 최연소, 차연소 기록을 가지고 있다.'}\n",
            "{'instruction': '아이브가 첫 곡으로 연습한 노래는 무엇인가요?', 'output': \"피프스 하모니의 That's my girl입니다.\"}\n",
            "{'instruction': '아이브는 데뷔 후 어디서 노래를 커버했나요?', 'output': \"1theK Originals에서 데뷔 후 That's my girl을 커버했습니다.\"}\n",
            "{'instruction': '아이브 멤버 중에서 안유진과 장원영을 제외한 멤버들은 어디에 SNS 계정을 공개한 적이 없었나요?', 'output': '스타쉽의 연습생 SNS 계정인 STARSHIPZ에 공개된 적이 없었습니다.'}\n",
            "{'instruction': '아이브의 멤버들은 데뷔 당시 어떤 연령이었나요?', 'output': '모두 10대이며, 전부가 미성년자였고 평균 나이는 만 17세였습니다.'}\n",
            "{'instruction': '유진이 리더로 지정된 연도는 언제인가요?', 'output': '2022년입니다.'}\n",
            "{'instruction': '아이브의 멤버 중에서 2004년생 3인은 언제부터 성인이 되었나요?', 'output': '2023년부터 성인이 되었습니다.'}\n",
            "{'instruction': '아이브의 막내 멤버 이서는 어떤 연령대인가요?', 'output': '이서는 고등학생입니다.'}\n",
            "{'instruction': '아이브의 멤버들 중에서 고등학생 이상이 된 멤버들은 언제부터인가요?', 'output': '막내 이서를 제외한 모두가 2023년에 고등학생 이상이 되었습니다.'}\n",
            "{'instruction': '아이브의 멤버들의 평균 연령은 어떻게 되나요?', 'output': '평균 연령은 만 17세입니다.'}\n",
            "{'instruction': '아이브의 막내 멤버 이서를 제외한 멤버들은 언제부터 성인이 되었나요?', 'output': '2023년에 성인이 되었습니다.'}\n",
            "{'instruction': '이서가 데뷔 때 어떤 타이틀로 주목을 받았나요?', 'output': '최연소 아이돌로 주목받았습니다.'}\n",
            "{'instruction': '2002-2007년생으로 구성된 그룹은 어떤 그룹인가요?', 'output': '스타쉽엔터테인먼트 소속 아티스트들 중 처음으로 21세기 시작 이후 출생한 구성원들로만 결성된 그룹입니다.'}\n",
            "{'instruction': '아이브 멤버들은 어떤 연도에 학창시절을 보냈을까요?', 'output': '전부 2000년대에 학창시절을 보냈습니다.'}\n",
            "{'instruction': '2002년생 가을 제외하면 나머지 멤버들은 2000년대에 어떤 문화를 잘 모르는 경향이 있나요?', 'output': '2000년대의 문화를 잘 모른다는 경향이 있습니다.'}\n",
            "{'instruction': '아이브 멤버들 중 가장 어리게 태어난 멤버는 누구인가요?', 'output': '이서입니다.'}\n",
            "{'instruction': '아이브 멤버들은 어떤 폰을 쓸 줄 모르는 모습을 보였을까요?', 'output': '애니콜 슬림폴더 HSDPA(일명 고아라폰)을 쓸 줄 모르는 모양새를 보였습니다.'}\n",
            "{'instruction': '아이브 멤버들은 어떤 애니메이션을 모르거나, 틀린 이름을 부르기도 했나요?', 'output': '원영과 이서는 슬라이드폰을 열 줄 모른다든가, 이서는 마시마로를 몰라서 마시멜로라고 하기도 했습니다.'}\n",
            "{'instruction': '아이브 멤버들 중 가을은 어느 정도 차이가 나는 모습을 보일 때가 있었나요?', 'output': '가을은 이서가 드림 하이(2011년)와 꽃보다 남자(2009년)를 모르는 것을 보고 세대 차이를 느꼈다고 말한 적이 있습니다.'}\n",
            "{'instruction': '아이브 멤버들 중 누가 캔모아를 모르자 직접 설명해 준 적이 있나요?', 'output': '원영과 이서가 캔모아를 모르자 직접 설명해 주었습니다.'}\n",
            "{'instruction': '가을은 이서와의 세대 차이를 어떻게 느끼고 있었나요?', 'output': '가을은 이서와 크게 세대 차이를 못 느낀다고 밝혔습니다.'}\n",
            "{'instruction': '아이브 멤버 중에서 가장 연장자는 누구인가요?', 'output': '최연장자가 아닌 둘째가 리더인 걸그룹이 되었습니다.'}\n",
            "{'instruction': '아이브 멤버 중에서 지상파 음악 방송 MC를 맡고 있던 멤버는 몇 명인가요?', 'output': '아이돌 그룹 내에 지상파 음악 방송 MC를 맡고 있던 멤버가 무려 2명이었습니다.'}\n",
            "{'instruction': '아이브의 멤버들은 가로본능 핸드폰에 대해 어떤 반응을 보였나요?', 'output': '멤버들 모두가 뭔지 모르는 듯한 모습을 보였습니다.'}\n",
            "{'instruction': '아이브는 어떤 세대에 해당되는 멤버들이 있는 건가요?', 'output': '아이브는 통칭 에코세대에 해당되는 40세 비와 그보다 2세대 뒤인 Z세대에 해당되는 멤버들로 구성되어 있습니다.'}\n",
            "{'instruction': '어떤 상황에서 아이브의 멤버들은 알파세대와의 차이가 두드러진 모습을 보였나요?', 'output': '가로본능 핸드폰이 소재로 나왔을 때, 알파세대와의 차이가 두드러지는 모습을 보였습니다.'}\n",
            "{'instruction': '아이브의 멤버 중에서 알파세대에 해당하는 멤버는 누구인가요?', 'output': '알파세대와 공유 요소가 있는 이서는 한 세대 뒤인 멤버로, 알파세대에 해당합니다.'}\n",
            "{'instruction': '아이브는 어떤 소속사 선배 걸그룹의 전례를 따라 둘째가 리더인 걸그룹이 되었나요?', 'output': '아이브는 소속사 선배 걸그룹이었던 씨스타와 우주소녀의 전례를 따라 최연장자가 아닌 둘째가 리더인 걸그룹이 되었습니다.'}\n",
            "{'instruction': '아이브의 멤버 중에서 음악 방송 MC에서 하차한 멤버가 있는가요?', 'output': '현재는 2명 모두 음악방송 MC에서 하차하였습니다.'}\n",
            "{'instruction': '2022년 4월 7일에 어떤 내용이 공개되었나요?', 'output': '2022년 4월 7일에 시즌비시즌에서 공개된 내용이 있었습니다.'}\n",
            "{'instruction': '아이브의 모습은 어떤 시즌에서 또 한 번 보여졌나요?', 'output': '이러한 모습은 2022년 4월 7일 공개된 시즌비시즌에서 또 한 번 보여졌습니다.'}\n",
            "{'instruction': '아이브 멤버들의 스타쉽엔터테인먼트 입사 순서는 어떻게 되나요?', 'output': '안유진(2016년) - 가을&장원영(2017년) - 레이(2018년) - 리즈&이서(2019년)'}\n",
            "{'instruction': '아이브는 어떤 소속사의 걸그룹인가요?', 'output': '스타쉽엔터테인먼트'}\n",
            "{'instruction': '아이브는 언제 일본에서 데뷔한 걸그룹이었나요?', 'output': '하반기'}\n",
            "{'instruction': '아이브 멤버들의 대부분이 좋아하는 음식은 무엇인가요?', 'output': '소고기'}\n",
            "{'instruction': '멤버들 중 MBTI가 내향형인 멤버들은 누구인가요?', 'output': '장원영과 이서를 제외한 나머지 멤버들'}\n",
            "{'instruction': '아이브의 평균 연령은 어떻게 계산되나요?', 'output': '2004년생 멤버들의 나이와 일치하게 계산됩니다.'}\n",
            "{'instruction': '아이브는 어떤 세대를 대표하는 걸그룹으로 뽑혔나요?', 'output': 'Z세대'}\n",
            "{'instruction': '아이브의 평균 신장은 얼마인가요?', 'output': '169.2cm'}\n",
            "{'instruction': '아이브의 그룹명은 어떻게 일본어로 표기되나요?', 'output': \"'アイヴ'\"}\n",
            "{'instruction': '아이브 멤버들 중에 다수가 좋아하는 음료는 무엇인가요?', 'output': '아메리카노'}\n",
            "{'instruction': 'IZ*ONE 출신 멤버 중에서 대전광역시에서 태어난 멤버는 누구인가요?', 'output': '안유진'}\n",
            "{'instruction': 'IZ*ONE 출신 멤버 중에서 인천광역시에서 태어난 멤버는 누구인가요?', 'output': '가을'}\n",
            "{'instruction': 'IZ*ONE 활동이 끝난 후 데뷔한 최초의 그룹은 어떤 그룹인가요?', 'output': 'IVE'}\n",
            "{'instruction': 'IZ*ONE 데뷔 쇼케이스 때 까치 한 마리가 스타쉽 김시대 대표의 차 위에 올라갔다고 하는데, 데뷔 쇼케이스 때 까치가 자기 눈 앞에 날아와 앉았다는 이야기가 사실인가요?', 'output': '사실입니다.'}\n",
            "{'instruction': 'IZ*ONE에서 사용하는 파이팅 구호는 어떤 구호인가요?', 'output': '\"아이팅!\"과 \"아~이(브)!\"라 외칩니다.'}\n",
            "{'instruction': 'IZ*ONE 데뷔 때부터 IVE 활동 이전까지 멤버들은 어떤 숙소에서 함께 살았나요?', 'output': '큰 평수의 숙소에서 6명이 함께 살았습니다.'}\n",
            "{'instruction': '2023년 4월 15일 방송된 아는 형님에서 이사 소식을 알렸는데, 멤버들은 새로운 숙소에서 3명씩 두 채로 나누어 살게 되었다고 하는데, 과거 숙소는 어디에 위치했나요?', 'output': '성수동에 위치했던 것으로 보입니다.'}\n",
            "{'instruction': '레이는 어느 도시에서 태어났나요?', 'output': '아난에서 태어났습니다.'}\n",
            "{'instruction': '리즈는 어느 도시에서 태어났나요?', 'output': '제주에서 태어났습니다.'}\n",
            "{'instruction': '장원영과 이서는 어느 도시 출신인가요?', 'output': '서울특별시 출신입니다.'}\n",
            "{'instruction': '어떤 것들이 숙소 규칙으로 정해져 있는가?', 'output': '빨래 제때 가져가기, 냉장고 유통기한 음식 본인 건 본인이 버리기 등이 있다.'}\n",
            "{'instruction': '멤버들은 어떤 과일을 좋아하는가?', 'output': '멤버들은 과일을 좋아해 냉장고에 항상 과일을 채워놓는데, 인기가 많은 과일로는 2021년 12월 샤인머스캣과 2022년 1월 딸기가 있다.'}\n",
            "{'instruction': '숙소 냉장고에는 어떤 음식들이 많이 있나?', 'output': '숙소 냉장고에는 과일 외에도 우유가 많이 있다.'}\n",
            "{'instruction': '민트초코에 대해 어떤 이야기가 있는가?', 'output': '민트초코에 대해 반인초(민트초코를 좋아하는 사람)와 민초(민트초코를 싫어하는 사람)로 나누어지고 멤버들 중에서 리즈는 반민초파이고, 안유진, 레이, 장원영, 이서는 민초파라고 한다.'}\n",
            "{'instruction': '멤버들의 공식색은 어떤 색들로 이루어져 있는가?', 'output': '멤버들의 공식색은 빨간색, 주황색, 초록색, 파란색, 남색, 보라색으로 무지개 7색 중에서 노란색만 빠져 있어서 그 이유를 궁금해하는 팬들이 많다.'}\n",
            "{'instruction': '노란색이 빠져 있는 이유는 무엇인가?', 'output': '아직 정확한 이유는 없지만, 일부에서는 새로운 멤버가 추가되는 것이라는 추측도 있지만, 아직 이와 관련된 설명은 없다.'}\n",
            "{'instruction': '<After Like> 활동 이후 멤버들의 색이 어떻게 바뀌었는가?', 'output': '<After Like> 활동 이후 상징이 남색인 가을과 빨강인 장원영을 제외한 멤버들의 색이 바뀌었다. 예를 들어, 안유진은 마젠타, 레이는 초록, 리즈는 시안, 이서는 옐로우로 바뀌었다.'}\n",
            "{'instruction': '멤버들이 싸운 적이 있다고 하는데, 어떤 사건이 있었는가?', 'output': '주어진 내용에는 멤버들이 싸운 사건에 대한 언급은 없다.'}\n",
            "{'instruction': '멤버들은 어떤 그룹이고 어떤 특징을 가지고 있는가?', 'output': '멤버들은 서로를 이해하고 사랑하며 융통성 있는 그룹이라고 한다.'}\n",
            "{'instruction': '앞으로 멤버들의 과일 취향이 어떻게 변할 것으로 예상되는가?', 'output': '주어진 내용에는 멤버들의 과일 취향이 변하는 것에 대한 언급은 없다.'}\n",
            "{'instruction': 'IVE의 멤버들의 형제 관계는 어떻게 되나요?', 'output': '안유진, 장원영, 레이는 언니가 있고, 가을은 오빠, 리즈는 남동생, 이서는 여동생이 있습니다.'}\n",
            "{'instruction': 'IVE의 데뷔월 기준 유행어는 무엇인가요?', 'output': '\"너무나도\", \"꽤나\", \"오히려 좋아\" 등의 유행어가 있습니다.'}\n",
            "{'instruction': 'IVE는 어떤 걸그룹의 파생 걸그룹인가요?', 'output': 'IVE는 엠넷의 프로듀스 101 시리즈 데뷔조 파생 걸그룹으로, 프리스틴, 구구단, 다이아 등과 함께 대표되는 걸그룹입니다.'}\n",
            "{'instruction': 'IVE와 다른 프로듀스 파생 걸그룹들과의 차이점은 무엇인가요?', 'output': '데뷔조에 속했던 멤버들의 인지도뿐만 아니라 모든 멤버들의 인지도가 높은 것이 차이점입니다.'}\n",
            "{'instruction': 'IVE의 공식 UNIVERSE 채널이 언제 오픈되었나요?', 'output': 'IVE의 공식 UNIVERSE 채널은 2021년 12월 20일에 오픈되었습니다.'}\n",
            "{'instruction': '현재까지 안유진과 장원영을 제외한 다른 멤버들이 개인 SNS 계정을 가지고 있나요?', 'output': '현재까지 안유진과 장원영을 제외한 다른 멤버들은 개인 SNS 계정을 가지고 있지 않습니다.'}\n",
            "{'instruction': 'IVE의 공식 대형은 누구부터 누구까지인가요?', 'output': '공식 대형은 사진 왼쪽부터 리즈 - 레이 - 장원영 - 안유진 - 가을 - 이서 로 되어 있었습니다.'}\n",
            "{'instruction': 'IVE의 정규 1집 활동부터 대형 구성이 어떻게 바뀌었나요?', 'output': '정규 1집 활동부터 대형 구성은 레이 - 가을 - 장원영 - 안유진 - 이서 - 리즈 순으로 바뀌었습니다.'}\n",
            "{'instruction': '아이브 멤버 중에서 서울공연예술고등학교를 중퇴한 멤버는 누구인가요?', 'output': '안유진'}\n",
            "{'instruction': '아이브 멤버 중에서 서울공연예술고등학교를 졸업한 멤버는 누구인가요?', 'output': '레이, 장원영'}\n",
            "{'instruction': '아이브 멤버들의 혈액형은 각각 무엇인가요?', 'output': '안유진, 레이 - A형 / 가을 - B형 / 리즈 - AB형 / 장원영, 이서 - O형'}\n",
            "{'instruction': '아이브는 몇 명의 멤버로 이루어져 있나요?', 'output': '다인원 걸그룹이 아닌데도 4명의 멤버로 이루어져 있습니다.'}\n",
            "{'instruction': '아이브 멤버들이 코로나19 확진 판정을 받은 적이 있나요?', 'output': '네, 멤버 전원이 코로나19 확진 판정을 받은 적이 있습니다.'}\n",
            "{'instruction': \"'앞으로 활약이 가장 기대되는 4세대 아이돌'에서 아이브는 걸그룹 부문 몇 위를 차지했나요?\", 'output': '아이브는 걸그룹 부문 3위를 차지했습니다.'}\n",
            "{'instruction': '아이브 멤버 중에서 인지도가 높아서 본명으로 불리는 멤버가 누구인가요?', 'output': '유진과 원영은 본명을 사용했던 IZ*ONE 시절부터 인지도가 높아서 성씨를 포함한 본명으로 불리는 경우가 많아 풀네임으로 활동명 변경이 불가피했습니다.'}\n",
            "{'instruction': '아이브 멤버들이 2023년 잼버리 축제에서 어떤 헤어스타일로 나타났나요?', 'output': '2023년 잼버리 축제에서 멤버들은 데뷔 때와 비슷한 헤어스타일로 나타났습니다.'}\n",
            "{'instruction': '아이브 팀 내에는 외동인 멤버가 있나요?', 'output': '아이브 팀 내에는 외동인 멤버가 없습니다.'}\n",
            "{'instruction': '아이브 멤버들 중에서 가을은 몇 번째로 태어난 아이인가요?', 'output': '가을은 팀 내에서 생년월일이 느린 멤버로서 남동생이 있습니다.'}\n"
          ]
        }
      ]
    },
    {
      "cell_type": "code",
      "source": [
        "# 15: 직접 만든 데이터와 ChatGPT가 만든 데이터를 합칩니다.\n",
        "instruction_data.extend(hand_written_data)"
      ],
      "metadata": {
        "id": "W_-JkxQANuP_"
      },
      "execution_count": 27,
      "outputs": []
    },
    {
      "cell_type": "code",
      "source": [
        "# 16: Train/Test로 적당히 나눕니다.\n",
        "import random\n",
        "test_data=[]\n",
        "train_data=[]\n",
        "\n",
        "for a in instruction_data:\n",
        "    if random.random() < 0.1:\n",
        "        test_data.append(a)\n",
        "    else:\n",
        "        train_data.append(a)"
      ],
      "metadata": {
        "id": "IWA3egg4iHF-"
      },
      "execution_count": null,
      "outputs": []
    },
    {
      "cell_type": "code",
      "execution_count": null,
      "metadata": {
        "id": "nMOr534oDSJu"
      },
      "outputs": [],
      "source": [
        "# 17: 알맞은 이름으로 저장\n",
        "import json\n",
        "with open(\"/content/drive/MyDrive/mygpt-lecture/data/stage1. domain_instruction_tuning/ive_instruction_train.jsonl\" , encoding= \"utf-8\",mode=\"w\") as file:\n",
        "\tfor i in train_data: file.write(json.dumps(i , ensure_ascii=False) + \"\\n\")\n",
        "\n",
        "with open(\"/content/drive/MyDrive/mygpt-lecture/data/stage1. domain_instruction_tuning/ive_instruction_test.jsonl\" , encoding= \"utf-8\",mode=\"w\") as file:\n",
        "\tfor i in test_data: file.write(json.dumps(i, ensure_ascii=False) + \"\\n\")"
      ]
    },
    {
      "cell_type": "markdown",
      "source": [
        "# Stage 2의 RM 데이터 생성\n",
        "\n",
        "### Data Format\n",
        "\n",
        "data = [{'prompt':\"질문\", 'chosen':\"더 우수한 답변\", 'reject':\"덜 우수한 답변\"}]"
      ],
      "metadata": {
        "id": "El-D27pOdEAX"
      }
    },
    {
      "cell_type": "markdown",
      "source": [
        "### 좋은 답변 만들기\n",
        "\n",
        "위에서 이미 만들어진 만든 데이터를 사용합니다"
      ],
      "metadata": {
        "id": "5SPNlK5zzpNI"
      }
    },
    {
      "cell_type": "code",
      "source": [
        "# 18: 위에서 만든 instruction 데이터 읽어오기!!\n",
        "\n",
        "instruction_data=[]\n",
        "for a in open(\"/content/drive/MyDrive/mygpt-lecture/data/stage1. domain_instruction_tuning/ive_instruction_train.jsonl\", 'r'):\n",
        "    instruction_data.append(json.loads(a))"
      ],
      "metadata": {
        "id": "x8xy9WdsaDSy"
      },
      "execution_count": 47,
      "outputs": []
    },
    {
      "cell_type": "markdown",
      "source": [
        "### 덜 좋은 답변 만들기\n",
        "\n",
        "참고자료를 주지 않고, 오로지 상상에만 맡겨서 데이터를 만들기!\n",
        "\n",
        "그럼 자연스럽게 퀄러티가 떨어지는 답변을 얻을 수 있습니다!\n",
        "\n",
        "ChatGPT는 아이브에 대해 알지 못하니까요^^"
      ],
      "metadata": {
        "id": "95FGMAQazu_7"
      }
    },
    {
      "cell_type": "code",
      "source": [
        "# 19: 일단 위에서 만든 데이터에서 질문만 뽑아보자\n",
        "questions = [a['instruction'] for a in instruction_data]\n",
        "print(\"질문 예시:\", questions[0])\n",
        "print(\"질문 갯수:\", len(questions))"
      ],
      "metadata": {
        "id": "TYnyK8y7lpG4",
        "colab": {
          "base_uri": "https://localhost:8080/"
        },
        "outputId": "236b93bf-ef2d-4a20-ac62-11bbf9844fcc"
      },
      "execution_count": 54,
      "outputs": [
        {
          "output_type": "stream",
          "name": "stdout",
          "text": [
            "질문 예시: 아이브는 어떤 소속사에 소속되어 있나요?\n",
            "질문 갯수: 223\n"
          ]
        }
      ]
    },
    {
      "cell_type": "code",
      "source": [
        "# 20: 질문을 10개 단위로 쪼개기\n",
        "question_list = [\"Q\" + str((i%10)+1)+\":\" + q  for i, q in enumerate(questions)]\n",
        "\n",
        "question_set =[]\n",
        "for i in range(0, len(question_list), 10):\n",
        "    question_set.append(\"\\n\".join(question_list[i:i+10]))\n",
        "\n",
        "print(\"전체 질문 Set 갯수: \", len(question_set))\n",
        "print(\"질문 Set 예시:\\n\", question_set[0])"
      ],
      "metadata": {
        "id": "TDwlcfQ0d1jR",
        "colab": {
          "base_uri": "https://localhost:8080/"
        },
        "outputId": "349376ec-b084-4eac-d1d8-28d942b0a6bc"
      },
      "execution_count": 90,
      "outputs": [
        {
          "output_type": "stream",
          "name": "stdout",
          "text": [
            "전체 질문 Set 갯수:  23\n",
            "질문 Set 예시:\n",
            " Q1:아이브는 어떤 소속사에 소속되어 있나요?\n",
            "Q2:아이브는 몇 명으로 이루어져 있나요?\n",
            "Q3:아이브의 데뷔일은 언제인가요?\n",
            "Q4:IVE의 그룹명은 어떤 의미를 가지고 있나요?\n",
            "Q5:아이브는 어떤 국적을 가진 걸그룹인가요?\n",
            "Q6:아이브의 데뷔 후 첫 음악 프로그램 1위는 언제였나요?\n",
            "Q7:아이브의 멤버는 누구들인가요?\n",
            "Q8:아이브의 음악 스타일은 어떤 특징이 있나요?\n",
            "Q9:아이브는 데뷔 후 어떤 활동을 할 예정인가요?\n",
            "Q10:아이브의 멤버는 누구인가요?\n"
          ]
        }
      ]
    },
    {
      "cell_type": "code",
      "source": [
        "# 21: ChatGPT에게 물어볼 프롬프트 형식\n",
        "PROMPT=\"### Instruction: 주어진 질문들에 대해서 각각 사실대로 답변해줘. 각 답변은 아래와 같은 형식으로 답변해줘.\\n\\\n",
        "\\n\\\n",
        "### 답변 형식\\n\\\n",
        "A1:답변1\\n\\\n",
        "A2:답변2\\n\\\n",
        "...\\n\\\n",
        "A10:답변10\\n\\n\\\n",
        "### 질문들\\n\\\n",
        "{questions}\\n\"\n",
        "\n",
        "print(PROMPT.format_map({'questions':question_set[0]}))"
      ],
      "metadata": {
        "id": "HqAeChvN0mVF",
        "colab": {
          "base_uri": "https://localhost:8080/"
        },
        "outputId": "016ce591-5321-4843-baf8-be0e8d03800b"
      },
      "execution_count": 91,
      "outputs": [
        {
          "output_type": "stream",
          "name": "stdout",
          "text": [
            "### Instruction: 주어진 질문들에 대해서 각각 사실대로 답변해줘. 각 답변은 아래와 같은 형식으로 답변해줘.\n",
            "\n",
            "### 답변 형식\n",
            "A1:답변1\n",
            "A2:답변2\n",
            "...\n",
            "A10:답변10\n",
            "\n",
            "### 질문들\n",
            "Q1:아이브는 어떤 소속사에 소속되어 있나요?\n",
            "Q2:아이브는 몇 명으로 이루어져 있나요?\n",
            "Q3:아이브의 데뷔일은 언제인가요?\n",
            "Q4:IVE의 그룹명은 어떤 의미를 가지고 있나요?\n",
            "Q5:아이브는 어떤 국적을 가진 걸그룹인가요?\n",
            "Q6:아이브의 데뷔 후 첫 음악 프로그램 1위는 언제였나요?\n",
            "Q7:아이브의 멤버는 누구들인가요?\n",
            "Q8:아이브의 음악 스타일은 어떤 특징이 있나요?\n",
            "Q9:아이브는 데뷔 후 어떤 활동을 할 예정인가요?\n",
            "Q10:아이브의 멤버는 누구인가요?\n",
            "\n"
          ]
        }
      ]
    },
    {
      "cell_type": "code",
      "source": [
        "# 22: 데이터를 담을 리스트\n",
        "bad_qa=[]\n",
        "bad_qa_error=[]"
      ],
      "metadata": {
        "id": "5NjfftBEgLHR"
      },
      "execution_count": 92,
      "outputs": []
    },
    {
      "cell_type": "code",
      "source": [
        "# 23: ChatGPT API Call\n",
        "# 에러가 발생하면 에러가 난 데이터만 다시 시도\n",
        "\n",
        "from tqdm import tqdm\n",
        "import time\n",
        "\n",
        "for a in tqdm(question_set[:2]):\n",
        "    try:\n",
        "        response = openai.ChatCompletion.create(\n",
        "            model='gpt-3.5-turbo',\n",
        "            messages=[\n",
        "                {'role':\"system\",\"content\":\"You are a helpful assistant.\"},\n",
        "                {'role':\"user\",\"content\": PROMPT.format_map({'questions':a})},\n",
        "                ],\n",
        "            temperature=1,\n",
        "        )\n",
        "        bad_qa.append({'instruction': a,  'output':response['choices'][0]['message']['content']})\n",
        "        time.sleep(1) # Optional\n",
        "    except Exception as e:\n",
        "        bad_qa_error.append(a)\n",
        "        print(title)\n",
        "        print(e)"
      ],
      "metadata": {
        "colab": {
          "base_uri": "https://localhost:8080/"
        },
        "id": "PHGi237vlqGS",
        "outputId": "a13f2be2-5047-426f-c0be-77a3cb5fa214"
      },
      "execution_count": 94,
      "outputs": [
        {
          "output_type": "stream",
          "name": "stderr",
          "text": [
            "100%|██████████| 2/2 [00:46<00:00, 23.17s/it]\n"
          ]
        }
      ]
    },
    {
      "cell_type": "code",
      "source": [
        "# 24: 데이터가 만들어지는 동안 직접 만들어보기!\n",
        "hand_written_dataset=[\n",
        "    {'prompt': '아이브와 아이유의 차이는 무엇인가요?',\n",
        "    'chosen': '아이브는 2021년 12월 1일에 데뷔한 스타쉽엔터테인먼트 소속의 대한민국 6인조 다국적 걸그룹입니다. 아이유는 개인으로 활동하는 대한민국의 싱어송라이터 입니다.',\n",
        "     'rejected': '아이브와 아이유는 아씨 성을 가진 자매입니다.'},\n",
        "    {'prompt': '질문',\n",
        "    'chosen': '좋은 답변',\n",
        "     'rejected': '나쁜 답변'}\n",
        "    #...\n",
        "]"
      ],
      "metadata": {
        "id": "opKNgy6jTozO"
      },
      "execution_count": null,
      "outputs": []
    },
    {
      "cell_type": "code",
      "source": [
        "print(bad_qa[0]['output'])"
      ],
      "metadata": {
        "colab": {
          "base_uri": "https://localhost:8080/"
        },
        "id": "izM5m7eIa33f",
        "outputId": "70eb2cee-e2fe-46fb-9a74-8b01cc587399"
      },
      "execution_count": 97,
      "outputs": [
        {
          "output_type": "stream",
          "name": "stdout",
          "text": [
            "A1: 아이브는 스타제국 에서 소속되어 있어요.\n",
            "A2: 아이브는 5명으로 이루어져 있어요.\n",
            "A3: 아이브의 데뷔일은 2021년 12월 14일이에요.\n",
            "A4: IVE는 \"Inborn Voice\"의 줄임말로 탄생한 목소리라는 의미를 가지고 있어요.\n",
            "A5: 아이브는 대한민국의 걸그룹이에요.\n",
            "A6: 아이브의 데뷔 후 첫 음악 프로그램 1위는 미정입니다.\n",
            "A7: 아이브의 멤버는 다음과 같아요: 태연, 보라, 장미, 디은, 저린\n",
            "A8: 아이브의 음악 스타일은 다양한 장르를 탐구하며 전 세계적인 음악적 트렌드를 수용하는 특징이 있어요.\n",
            "A9: 아이브는 데뷔 후 다양한 음악 활동과 공연 활동을 할 예정입니다.\n",
            "A10: 아이브의 멤버는 태연, 보라, 장미, 디은, 저린 입니다.\n"
          ]
        }
      ]
    },
    {
      "cell_type": "code",
      "source": [
        "# 25: 질문과 답변만 뽑자\n",
        "bad_instruction_data={}\n",
        "for x in bad_qa:\n",
        "\n",
        "    q_s = x['instruction'].replace(\"\\n\\n\",\"\\n\").split(\"\\n\")\n",
        "    a_s = x['output'].replace(\"\\n\\n\",\"\\n\").split(\"\\n\")\n",
        "\n",
        "    # 한줄씩 자른 다음,  : 기준으로 잘라서 question과 answer만 뽑자!\n",
        "    for qq, aa in zip(q_s, a_s):\n",
        "        question = qq.split(\":\")[1].strip()\n",
        "        answer = aa.split(\":\")[1].strip()\n",
        "        bad_instruction_data[question] = answer # 추후에 작업 편의를 위해 질문을 Key로 하는 dict 형태로 저장"
      ],
      "metadata": {
        "id": "kVybzj1XbZKc"
      },
      "execution_count": 118,
      "outputs": []
    },
    {
      "cell_type": "code",
      "source": [
        "q1 = list(bad_instruction_data.keys())[0]\n",
        "a1 = bad_instruction_data[q1]\n",
        "\n",
        "print(\"질문:\", q1)\n",
        "print(\"답변:\", a1)"
      ],
      "metadata": {
        "colab": {
          "base_uri": "https://localhost:8080/"
        },
        "id": "e1odHW8Wbnt_",
        "outputId": "c006870e-0a65-4bbe-db11-049c27024aac"
      },
      "execution_count": 119,
      "outputs": [
        {
          "output_type": "stream",
          "name": "stdout",
          "text": [
            "질문: 아이브는 어떤 소속사에 소속되어 있나요?\n",
            "답변: 아이브는 스타제국 에서 소속되어 있어요.\n"
          ]
        }
      ]
    },
    {
      "cell_type": "markdown",
      "source": [
        "### 좋은 질의응답과 나쁜 질의응답을 만들었으니, 이제 reward 모델의 학습을 위한 형태로 변환해 봅시다"
      ],
      "metadata": {
        "id": "1z_cAc1pfZPE"
      }
    },
    {
      "cell_type": "code",
      "source": [
        "# 26: prompt, chosen, rejected 형태로 데이터 생성\n",
        "\n",
        "reward_dataset=[]\n",
        "for a in instruction_data:\n",
        "\n",
        "    question = a['instruction']\n",
        "    chosen = a['output'] # 좋은 답변\n",
        "\n",
        "    if bad_instruction_data.get(question) is None:\n",
        "        continue # API 에러로 인해 답변을 못받은 질문\n",
        "\n",
        "    rejected = bad_instruction_data[question] # 나쁜 답변\n",
        "\n",
        "    reward_dataset.append({'prompt': question,'chosen': chosen, 'rejected': rejected})"
      ],
      "metadata": {
        "id": "HzNULI75cx1o"
      },
      "execution_count": 130,
      "outputs": []
    },
    {
      "cell_type": "code",
      "source": [
        "reward_dataset[0]"
      ],
      "metadata": {
        "id": "MRetnfQC9_6B",
        "colab": {
          "base_uri": "https://localhost:8080/"
        },
        "outputId": "f77bc61f-9e01-458a-e539-8495b929288a"
      },
      "execution_count": 129,
      "outputs": [
        {
          "output_type": "execute_result",
          "data": {
            "text/plain": [
              "{'prompt': '아이브는 어떤 소속사에 소속되어 있나요?',\n",
              " 'chosen': '아이브는 스타쉽엔터테인먼트에 소속되어 있습니다.',\n",
              " 'rejected': '아이브는 스타제국 에서 소속되어 있어요.'}"
            ]
          },
          "metadata": {},
          "execution_count": 129
        }
      ]
    },
    {
      "cell_type": "code",
      "source": [
        "len(reward_dataset)"
      ],
      "metadata": {
        "id": "wRe3A82O-Mx1",
        "colab": {
          "base_uri": "https://localhost:8080/"
        },
        "outputId": "73ef948e-5764-4bda-f030-b15ba5c724f8"
      },
      "execution_count": null,
      "outputs": [
        {
          "output_type": "execute_result",
          "data": {
            "text/plain": [
              "248"
            ]
          },
          "metadata": {},
          "execution_count": 329
        }
      ]
    },
    {
      "cell_type": "code",
      "source": [
        "# 28: 직접 만든 데이터와 합치기\n",
        "reward_dataset.extend(hand_writen_data)"
      ],
      "metadata": {
        "id": "h0HNWOWOd4CL"
      },
      "execution_count": null,
      "outputs": []
    },
    {
      "cell_type": "code",
      "source": [
        "# 29: 적절히 학습/평가 데이터로 나누기\n",
        "\n",
        "train_rm = []\n",
        "test_rm = []\n",
        "for a in reward_dataset:\n",
        "    if random.random() < 0.1:\n",
        "        test_rm.append(a)\n",
        "    else:\n",
        "        train_rm.append(a)"
      ],
      "metadata": {
        "id": "CCEK8JW7ao86"
      },
      "execution_count": null,
      "outputs": []
    },
    {
      "cell_type": "code",
      "source": [
        "# 29: 저장(이름 바꿔주세요!!!!)\n",
        "\n",
        "import json\n",
        "with open(\"/content/drive/MyDrive/mygpt-lecture/data/stage2. RM/ive_train_rm.jsonl\" , encoding= \"utf-8\",mode=\"w\") as file:\n",
        "\tfor i in train_rm: file.write(json.dumps(i, ensure_ascii=False) + \"\\n\")\n",
        "\n",
        "with open(\"/content/drive/MyDrive/mygpt-lecture/data/stage2. RM/ive_test_rm.jsonl\" , encoding= \"utf-8\",mode=\"w\") as file:\n",
        "\tfor i in test_rm: file.write(json.dumps(i, ensure_ascii=False) + \"\\n\")"
      ],
      "metadata": {
        "id": "NrDLQ2Ueart6"
      },
      "execution_count": null,
      "outputs": []
    },
    {
      "cell_type": "markdown",
      "source": [
        "# Stage 3 PPO 데이터 만들기, 질문만 있으면 됩니다!!"
      ],
      "metadata": {
        "id": "DCyw30Z_mGwK"
      }
    },
    {
      "cell_type": "code",
      "source": [
        "# 30: 자신이 만든 사전학습 데이터 읽어오기!!\n",
        "\n",
        "data=[]\n",
        "for a in open(\"/content/drive/MyDrive/mygpt-lecture/data/stage1. domain_adaptive_pretraining/domain_adaptive_ive_pretrain.jsonl\", 'r'):\n",
        "    data.append(json.loads(a))"
      ],
      "metadata": {
        "id": "iS_1otoLmisD"
      },
      "execution_count": null,
      "outputs": []
    },
    {
      "cell_type": "code",
      "source": [
        "# 31: 최대한 다양한 질문을 만들어 낼 수 있는 프롬프트로 작성! 하나의 내용당 20개의 질문 요청\n",
        "\n",
        "PROMPT=\"다음 주제와 내용을 보고 답변 할 수 있는 다양한 형태와 난이도의 창의적인 질문 20개를 만들어줘. n주제:{title}\\n내용:{content}\\n\\\n",
        "질문과 질문 사이는 반드시 ###을 붙여줘.\\n\\\n",
        "답변의 형태는 다음과 같아.\\n\\\n",
        "\\n\\\n",
        "### Q1:질문1\\n\\\n",
        "### Q2:질문2\\n\\\n",
        "### Q3:질문3\\n\\\n",
        "...\\n\\\n",
        "### Q20:질문20\\n\\\n",
        "\""
      ],
      "metadata": {
        "id": "qEpr6YD8nIsD"
      },
      "execution_count": 131,
      "outputs": []
    },
    {
      "cell_type": "code",
      "source": [
        "# 32: 생성한 데이터를 저장할 리스트\n",
        "question_only_data=[]\n",
        "error_data=[]"
      ],
      "metadata": {
        "id": "JU8PrAQlnKRD"
      },
      "execution_count": 132,
      "outputs": []
    },
    {
      "cell_type": "code",
      "source": [
        "# 33: API Call\n",
        "\n",
        "from tqdm import tqdm\n",
        "for a in tqdm(data):\n",
        "\n",
        "    title = a['instruction'].split(\"주제:\")[-1]\n",
        "    content = a['output']\n",
        "    try:\n",
        "        response = openai.ChatCompletion.create(\n",
        "            model='gpt-3.5-turbo',\n",
        "            messages=[\n",
        "                {'role':\"system\",\"content\":\"You are a helpful assistant.\"},\n",
        "                {'role':\"user\",\"content\":PROMPT.format_map({'title':title, 'content':content})},\n",
        "                ],\n",
        "            temperature=1 # 다양하게 만들기 위해 Temperature 1로 셋팅\n",
        "        )\n",
        "        question_only_data.append(response['choices'][0]['message']['content'])\n",
        "    except Exception as e:\n",
        "        error_data.append(a)\n",
        "        print(title)\n",
        "        print(e)"
      ],
      "metadata": {
        "colab": {
          "base_uri": "https://localhost:8080/"
        },
        "id": "uORso87Emh77",
        "outputId": "c0850189-7801-4d77-9ce6-3b93e1edae99"
      },
      "execution_count": null,
      "outputs": [
        {
          "output_type": "stream",
          "name": "stderr",
          "text": [
            "100%|██████████| 25/25 [09:16<00:00, 22.27s/it]\n"
          ]
        }
      ]
    },
    {
      "cell_type": "code",
      "source": [
        "question_only_data[-1]"
      ],
      "metadata": {
        "colab": {
          "base_uri": "https://localhost:8080/",
          "height": 108
        },
        "id": "eMOO21panTKQ",
        "outputId": "25f7f184-6766-49a6-f5f5-e435366fb6ef"
      },
      "execution_count": null,
      "outputs": [
        {
          "output_type": "execute_result",
          "data": {
            "text/plain": [
              "'Q1: IZ*ONE 멤버 중 LOVE DIVE 활동을 기점으로 활동명이 변경된 멤버는 누구인가요?\\nA1: 안유진과 장원영\\n\\nQ2: 혈액형이 모두 다른 멤버는 누구인가요?\\nA2: 가을, 안유진, 레이, 리즈, 장원영, 이서\\n\\nQ3: 멤버 중 몇 명이 서울공연예술고등학교를 중퇴 또는 졸업한 적이 있는가요?\\nA3: 3명 (안유진, 레이, 장원영)\\n\\nQ4: IZ*ONE이 대중음악계 영향력 있는 전문가 투표에서 걸그룹 부문에서 몇 위를 차지했나요?\\nA4: 3위\\n\\nQ5: 모든 멤버가 코로나19 확진 판정을 받은 적이 있는가요?\\nA5: 예\\n\\nQ6: 2023년 잼버리 축제에서 멤버들은 어떤 헤어스타일을 할까요?\\nA6: 데뷔 때와 비슷한 헤어스타일\\n\\nQ7: IZ*ONE에는 외동인 멤버가 있나요?\\nA7: 아니요, 없습니다.\\n\\nQ8: 안유진, 레이, 원영은 각각 언니와 누나, 오빠와 형제 자매인가요?\\nA8: 유진, 원영은 언니, 레이는 누나입니다.\\n\\nQ9: 리즈와 이서는 각각 형제와 자매가 있나요?\\nA9: 리즈는 남동생이 있고, 이서는 여동생이 있습니다.\\n\\nQ10: LOVE DIVE 활동 이전에는 모든 멤버가 어떤 종류의 활동명을 사용했나요?\\nA10: 성씨를 제외한 본명 및 예명'"
            ],
            "application/vnd.google.colaboratory.intrinsic+json": {
              "type": "string"
            }
          },
          "metadata": {},
          "execution_count": 339
        }
      ]
    },
    {
      "cell_type": "code",
      "source": [
        "# 34: 데이터 전처리\n",
        "\n",
        "prompt_dataset=[]\n",
        "for q in question_only_data:\n",
        "    q_s = q.replace(\"\\n\\n\",\"\\n\").split(\"\\n\")\n",
        "\n",
        "    # 한줄씩 자른 다음, : 기준으로 잘라서 question 뽑기!\n",
        "    for qq in q_s:\n",
        "        prompt_dataset.append({'prompt':qq.split(\":\")[1].lstrip()})"
      ],
      "metadata": {
        "id": "jwKe-bMCxFZB"
      },
      "execution_count": 133,
      "outputs": []
    },
    {
      "cell_type": "code",
      "source": [
        "len(prompt_dataset)"
      ],
      "metadata": {
        "id": "wPItKBhMtlYG",
        "colab": {
          "base_uri": "https://localhost:8080/"
        },
        "outputId": "ad7ba339-22e0-4885-99be-6f92e522723c"
      },
      "execution_count": null,
      "outputs": [
        {
          "output_type": "execute_result",
          "data": {
            "text/plain": [
              "500"
            ]
          },
          "metadata": {},
          "execution_count": 350
        }
      ]
    },
    {
      "cell_type": "code",
      "source": [
        "for a in random.sample(prompt_dataset, 3):\n",
        "    print(a)"
      ],
      "metadata": {
        "colab": {
          "base_uri": "https://localhost:8080/"
        },
        "id": "RqUka6k6zMii",
        "outputId": "368fe063-e3f1-4338-d124-bdcf1249b4e8"
      },
      "execution_count": null,
      "outputs": [
        {
          "output_type": "stream",
          "name": "stdout",
          "text": [
            "{'prompt': '아이브의 멤버들이 가장 자주 하는 취미나 특기는 무엇일까요?'}\n",
            "{'prompt': '이 그룹의 멤버들 중 가을과 다른 멤버들 사이에 어떤 차이점이 있나요?'}\n",
            "{'prompt': '\"After LIKE\"가 Spotify 글로벌 차트에서 23위에 올랐다는 사실은 어떤 의미를 가지나요?'}\n"
          ]
        }
      ]
    },
    {
      "cell_type": "code",
      "source": [
        "# 35: Train/Test 분리\n",
        "\n",
        "import random\n",
        "train=[]\n",
        "test=[]\n",
        "for a in prompt_dataset:\n",
        "    if random.random() < 0.1:\n",
        "        test.append(a)\n",
        "    else:\n",
        "        train.append(a)"
      ],
      "metadata": {
        "id": "e_dzxxtQ1Ucp"
      },
      "execution_count": null,
      "outputs": []
    },
    {
      "cell_type": "code",
      "source": [
        "# 36: 데이터 저장(이름 주의!!!)\n",
        "\n",
        "import json\n",
        "with open(\"/content/drive/MyDrive/mygpt-lecture/data/stage3. PPO/ive_train_ppo.jsonl\" , encoding= \"utf-8\",mode=\"w\") as file:\n",
        "\tfor i in train: file.write(json.dumps(i, ensure_ascii=False) + \"\\n\")\n",
        "\n",
        "with open(\"/content/drive/MyDrive/mygpt-lecture/data/stage3. PPO/ive_test_ppo.jsonl\" , encoding= \"utf-8\",mode=\"w\") as file:\n",
        "\tfor i in test: file.write(json.dumps(i, ensure_ascii=False) + \"\\n\")"
      ],
      "metadata": {
        "id": "BJgpJbB33N1c"
      },
      "execution_count": null,
      "outputs": []
    }
  ],
  "metadata": {
    "colab": {
      "provenance": []
    },
    "kernelspec": {
      "display_name": "Python 3",
      "name": "python3"
    },
    "language_info": {
      "name": "python"
    }
  },
  "nbformat": 4,
  "nbformat_minor": 0
}
